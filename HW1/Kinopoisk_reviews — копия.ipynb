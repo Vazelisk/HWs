{
 "cells": [
  {
   "cell_type": "code",
   "execution_count": 555,
   "metadata": {},
   "outputs": [],
   "source": [
    "from html import unescape\n",
    "from bs4 import BeautifulSoup\n",
    "import re\n",
    "import random\n",
    "from fake_useragent import UserAgent\n",
    "import requests\n",
    "from pprint import pprint\n",
    "import nltk\n",
    "import string\n",
    "from nltk.tokenize import word_tokenize\n",
    "from collections import Counter\n",
    "from tqdm.auto import tqdm\n",
    "from time import sleep\n",
    "import time"
   ]
  },
  {
   "cell_type": "markdown",
   "metadata": {},
   "source": [
    "Качаю линки на фильмы с кинопоиска"
   ]
  },
  {
   "cell_type": "code",
   "execution_count": 817,
   "metadata": {},
   "outputs": [],
   "source": [
    "session = requests.session()\n",
    "ua = UserAgent(verify_ssl=False)"
   ]
  },
  {
   "cell_type": "code",
   "execution_count": 818,
   "metadata": {},
   "outputs": [],
   "source": [
    "url = 'https://www.kinopoisk.ru/lists/top500/?page=9&tab=all'\n",
    "req = session.get(url, headers={'User-Agent': ua.chrome})\n",
    "page = req.text\n",
    "soup = BeautifulSoup(page, 'html.parser')"
   ]
  },
  {
   "cell_type": "code",
   "execution_count": 819,
   "metadata": {},
   "outputs": [],
   "source": [
    "film_links = soup.find_all('a', {'class': 'selection-film-item-meta__link'})\n",
    "films_ids = []\n",
    "for link in film_links:\n",
    "    link = re.findall(r'href=\"(.+?)\">', str(link))\n",
    "    films_ids.append(link[0])"
   ]
  },
  {
   "cell_type": "code",
   "execution_count": 820,
   "metadata": {},
   "outputs": [
    {
     "data": {
      "text/plain": [
       "['/film/258328/',\n",
       " '/film/5012/',\n",
       " '/film/7226/',\n",
       " '/film/8227/',\n",
       " '/film/368/',\n",
       " '/film/42571/',\n",
       " '/film/43553/',\n",
       " '/film/102124/',\n",
       " '/film/1902/',\n",
       " '/film/7660/',\n",
       " '/film/46512/',\n",
       " '/film/279828/',\n",
       " '/film/45463/',\n",
       " '/film/42667/',\n",
       " '/film/1091/',\n",
       " '/film/39259/',\n",
       " '/film/273209/',\n",
       " '/film/363/',\n",
       " '/film/16117/',\n",
       " '/film/538/',\n",
       " '/film/3442/',\n",
       " '/film/47814/',\n",
       " '/film/63929/',\n",
       " '/film/7765/',\n",
       " '/film/505851/',\n",
       " '/film/337/',\n",
       " '/film/276376/',\n",
       " '/film/468/',\n",
       " '/film/42088/',\n",
       " '/film/43332/']"
      ]
     },
     "execution_count": 820,
     "metadata": {},
     "output_type": "execute_result"
    }
   ],
   "source": [
    "films_ids"
   ]
  },
  {
   "cell_type": "markdown",
   "metadata": {},
   "source": [
    "Качаю по 30 пол и отр отзывов (а также тестовые), кладу их в два списка. Также чищю текст. Дебильный кинопоиск блочит мои запросы, а ещё может не быть какого-то комментария (зачастую отрицательного). Насколько я понимаю, это почти нереально пофиксить. Поэтому недостающее я добавил ручками в конце (то есть брал брал другую страницу, все делал код, то есть это было автоматически, но пришлось пошаманить). Надо было брать другой сервис, потому что с кинопоиском просто нереально, не снижайте) Тестов у меня будет больше, но какая разница, лучше проверю в итоге."
   ]
  },
  {
   "cell_type": "code",
   "execution_count": 745,
   "metadata": {},
   "outputs": [],
   "source": [
    "def cleaner(review):\n",
    "    b_result = \"\"\n",
    "    for c in review:\n",
    "        if c not in string.punctuation:\n",
    "            b_result += c\n",
    "    tokens = [w.lower() for w in word_tokenize(b_result) if w.isalpha()]\n",
    "    return tokens"
   ]
  },
  {
   "cell_type": "code",
   "execution_count": 746,
   "metadata": {},
   "outputs": [],
   "source": [
    "def bad_reviews(soup):    \n",
    "    reviews = soup.find_all('div', {'class': 'response bad'})  \n",
    "    review = reviews[0].find('span').text\n",
    "    review = re.sub(r'\\n', '', review)\n",
    "    review = re.sub(r'\\r', ' ', review)\n",
    "    review = cleaner(review)\n",
    "    negative.append(review)"
   ]
  },
  {
   "cell_type": "code",
   "execution_count": 747,
   "metadata": {},
   "outputs": [],
   "source": [
    "def good_reviews(soup):    \n",
    "    reviews = soup.find_all('div', {'class': 'response good'})\n",
    "    review = reviews[0].find('span').text\n",
    "    review = re.sub(r'\\n|', '', review)\n",
    "    review = re.sub(r'\\r', ' ', review)\n",
    "    review = cleaner(review)\n",
    "    positive.append(review)"
   ]
  },
  {
   "cell_type": "code",
   "execution_count": 748,
   "metadata": {},
   "outputs": [],
   "source": [
    "def neutral_reviews(soup):\n",
    "    reviews = soup.find_all('div', {'class': 'response good'})\n",
    "    review = reviews[1].find('span').text\n",
    "    review = re.sub(r'\\n|', '', review)\n",
    "    review = re.sub(r'\\r', ' ', review)\n",
    "    review = cleaner(review)\n",
    "    d = {}\n",
    "    d['positive'] = review\n",
    "    test.append(d)\n",
    "    d = {}\n",
    "    reviews = soup.find_all('div', {'class': 'response bad'})\n",
    "    review = reviews[1].find('span').text\n",
    "    review = re.sub(r'\\n|', '', review)\n",
    "    review = re.sub(r'\\r', ' ', review)\n",
    "    review = cleaner(review)\n",
    "    d['negative'] = review\n",
    "    test.append(d)"
   ]
  },
  {
   "cell_type": "code",
   "execution_count": 740,
   "metadata": {},
   "outputs": [],
   "source": [
    "positive = []\n",
    "negative = []\n",
    "test = []"
   ]
  },
  {
   "cell_type": "code",
   "execution_count": 851,
   "metadata": {},
   "outputs": [
    {
     "data": {
      "text/plain": [
       "'negative'"
      ]
     },
     "execution_count": 851,
     "metadata": {},
     "output_type": "execute_result"
    }
   ],
   "source": [
    "negative"
   ]
  },
  {
   "cell_type": "markdown",
   "metadata": {},
   "source": [
    "У всех фильмов структура ссылки на отзывы одинаковая, так что я упростил себе задачу."
   ]
  },
  {
   "cell_type": "code",
   "execution_count": null,
   "metadata": {},
   "outputs": [],
   "source": [
    "for id in films_ids:\n",
    "    url = 'https://www.kinopoisk.ru'+id+'reviews/ord/date/status/all/perpage/200/'\n",
    "    req = session.get(url, headers={'User-Agent': ua.random})\n",
    "    page = req.text\n",
    "    soup = BeautifulSoup(page, 'html.parser')\n",
    "    good_reviews(soup)\n",
    "    try:\n",
    "        bad_reviews(soup)    \n",
    "    except:\n",
    "        pass\n",
    "    try:\n",
    "        neutral_reviews(soup)\n",
    "    except:\n",
    "        pass"
   ]
  },
  {
   "cell_type": "markdown",
   "metadata": {},
   "source": [
    "Теперь начальные формы. Я не хочу делать в функции, так менее красиво имхо. Но могу/ А ещё можно было бы сделать список для каждого отзыва, но вроде это нам не нужно."
   ]
  },
  {
   "cell_type": "code",
   "execution_count": 823,
   "metadata": {},
   "outputs": [],
   "source": [
    "from pymorphy2 import MorphAnalyzer\n",
    "morph = MorphAnalyzer()\n",
    "negative_wordforms = []\n",
    "for review in negative:\n",
    "    n = 0\n",
    "    for word in review:\n",
    "        info = morph.parse(word)\n",
    "        wordform = info[0].normal_form\n",
    "        negative_wordforms.append(wordform)\n",
    "    n+=1"
   ]
  },
  {
   "cell_type": "code",
   "execution_count": 824,
   "metadata": {},
   "outputs": [],
   "source": [
    "morph = MorphAnalyzer()\n",
    "positive_wordforms = []\n",
    "for review in positive:\n",
    "    n = 0\n",
    "    for word in review:\n",
    "        info = morph.parse(word)\n",
    "        wordform = info[0].normal_form\n",
    "        positive_wordforms.append(wordform)\n",
    "    n+=1"
   ]
  },
  {
   "cell_type": "code",
   "execution_count": 825,
   "metadata": {},
   "outputs": [],
   "source": [
    "morph = MorphAnalyzer()\n",
    "test_wordforms = []\n",
    "n = 0\n",
    "for review in test:\n",
    "    d = {}\n",
    "    review_wordforms = []\n",
    "    for list in review.values():\n",
    "        for word in list:\n",
    "            info = morph.parse(word)\n",
    "            wordform = info[0].normal_form\n",
    "            review_wordforms.append(wordform)\n",
    "    for key, value in review.items():\n",
    "        if key == 'negative':\n",
    "            d['negative'] = review_wordforms\n",
    "        else:\n",
    "            d['positive'] = review_wordforms \n",
    "    test_wordforms.append(d)\n",
    "    n+=1"
   ]
  },
  {
   "cell_type": "markdown",
   "metadata": {},
   "source": [
    "Так. Я молодец. Можно переходить к третьему пункту. Сразу отправляю жабу."
   ]
  },
  {
   "cell_type": "code",
   "execution_count": null,
   "metadata": {},
   "outputs": [],
   "source": [
    "from IPython.display import Image\n",
    "Image(filename =r'jaba.jpg')"
   ]
  },
  {
   "cell_type": "markdown",
   "metadata": {},
   "source": [
    "Создание уникальных словарей для поз/нег уникальных слов. Возможно немного через жопу и с кучей словарей, но работает."
   ]
  },
  {
   "cell_type": "code",
   "execution_count": 826,
   "metadata": {},
   "outputs": [],
   "source": [
    "unique_positive = []\n",
    "for word in positive_wordforms:\n",
    "    if not word in negative_wordforms:\n",
    "        unique_positive.append(word)"
   ]
  },
  {
   "cell_type": "code",
   "execution_count": 827,
   "metadata": {},
   "outputs": [],
   "source": [
    "unique_positive_freqlist = {}\n",
    "for word in unique_positive:\n",
    "    try:\n",
    "        unique_positive_freqlist[word] += 1\n",
    "    except:\n",
    "        unique_positive_freqlist[word] = 1"
   ]
  },
  {
   "cell_type": "code",
   "execution_count": 828,
   "metadata": {},
   "outputs": [],
   "source": [
    "unique_positive_freqlist_cleared = {}\n",
    "for key, value in unique_positive_freqlist.items():\n",
    "    if value > 2:\n",
    "        unique_positive_freqlist_cleared[key] = value"
   ]
  },
  {
   "cell_type": "markdown",
   "metadata": {},
   "source": [
    "И для негативных отзывов"
   ]
  },
  {
   "cell_type": "code",
   "execution_count": 829,
   "metadata": {},
   "outputs": [],
   "source": [
    "unique_negative = []\n",
    "for word in negative_wordforms:\n",
    "    if not word in positive_wordforms:\n",
    "        unique_negative.append(word)"
   ]
  },
  {
   "cell_type": "code",
   "execution_count": 830,
   "metadata": {},
   "outputs": [],
   "source": [
    "unique_negative_freqlist = {}\n",
    "for word in unique_negative:\n",
    "    try:\n",
    "        unique_negative_freqlist[word] += 1\n",
    "    except:\n",
    "        unique_negative_freqlist[word] = 1"
   ]
  },
  {
   "cell_type": "code",
   "execution_count": 831,
   "metadata": {},
   "outputs": [],
   "source": [
    "unique_negative_freqlist_cleared = {}\n",
    "for key, value in unique_negative_freqlist.items():\n",
    "    if value > 2:\n",
    "        unique_negative_freqlist_cleared[key] = value"
   ]
  },
  {
   "cell_type": "markdown",
   "metadata": {},
   "source": [
    "Функция определения тональности отзыва. Тут вроде все понятно"
   ]
  },
  {
   "cell_type": "code",
   "execution_count": 832,
   "metadata": {
    "scrolled": true
   },
   "outputs": [
    {
     "name": "stdout",
     "output_type": "stream",
     "text": [
      "I think it is negative\n",
      "True answer is: positive\n",
      "\n",
      "\n",
      "I think it is negative\n",
      "True answer is: negative\n",
      "\n",
      "\n",
      "I think it is negative\n",
      "True answer is: positive\n",
      "\n",
      "\n",
      "I think it is negative\n",
      "True answer is: negative\n",
      "\n",
      "\n",
      "I think it is negative\n",
      "True answer is: positive\n",
      "\n",
      "\n",
      "I think it is negative\n",
      "True answer is: negative\n",
      "\n",
      "\n",
      "I think it is positive\n",
      "True answer is: positive\n",
      "\n",
      "\n",
      "I think it is negative\n",
      "True answer is: positive\n",
      "\n",
      "\n",
      "I think it is negative\n",
      "True answer is: negative\n",
      "\n",
      "\n",
      "I think it is negative\n",
      "True answer is: positive\n",
      "\n",
      "\n",
      "I think it is negative\n",
      "True answer is: negative\n",
      "\n",
      "\n",
      "I think it is negative\n",
      "True answer is: positive\n",
      "\n",
      "\n",
      "I think it is negative\n",
      "True answer is: negative\n",
      "\n",
      "\n",
      "I think it is positive\n",
      "True answer is: positive\n",
      "\n",
      "\n",
      "I think it is negative\n",
      "True answer is: negative\n",
      "\n",
      "\n",
      "I think it is positive\n",
      "True answer is: positive\n",
      "\n",
      "\n",
      "I think it is positive\n",
      "True answer is: negative\n",
      "\n",
      "\n",
      "I think it is negative\n",
      "True answer is: positive\n",
      "\n",
      "\n",
      "I think it is negative\n",
      "True answer is: negative\n",
      "\n",
      "\n",
      "I think it is negative\n",
      "True answer is: positive\n",
      "\n",
      "\n",
      "I think it is negative\n",
      "True answer is: negative\n",
      "\n",
      "\n",
      "I think it is positive\n",
      "True answer is: positive\n",
      "\n",
      "\n",
      "I think it is positive\n",
      "True answer is: negative\n",
      "\n",
      "\n",
      "I think it is negative\n",
      "True answer is: positive\n",
      "\n",
      "\n",
      "I think it is negative\n",
      "True answer is: negative\n",
      "\n",
      "\n",
      "I think it is negative\n",
      "True answer is: positive\n",
      "\n",
      "\n",
      "I think it is negative\n",
      "True answer is: negative\n",
      "\n",
      "\n",
      "I think it is negative\n",
      "True answer is: positive\n",
      "\n",
      "\n",
      "I think it is negative\n",
      "True answer is: negative\n",
      "\n",
      "\n",
      "I don't know\n",
      "True answer is: positive\n",
      "\n",
      "\n",
      "I think it is negative\n",
      "True answer is: negative\n",
      "\n",
      "\n",
      "I think it is positive\n",
      "True answer is: positive\n",
      "\n",
      "\n",
      "I think it is negative\n",
      "True answer is: negative\n",
      "\n",
      "\n",
      "I think it is positive\n",
      "True answer is: positive\n",
      "\n",
      "\n",
      "I think it is positive\n",
      "True answer is: negative\n",
      "\n",
      "\n",
      "I think it is positive\n",
      "True answer is: positive\n",
      "\n",
      "\n",
      "I think it is negative\n",
      "True answer is: negative\n",
      "\n",
      "\n",
      "I think it is positive\n",
      "True answer is: positive\n",
      "\n",
      "\n",
      "I think it is negative\n",
      "True answer is: negative\n",
      "\n",
      "\n",
      "I think it is positive\n",
      "True answer is: positive\n",
      "\n",
      "\n",
      "I think it is positive\n",
      "True answer is: positive\n",
      "\n",
      "\n",
      "I think it is positive\n",
      "True answer is: positive\n",
      "\n",
      "\n",
      "I think it is negative\n",
      "True answer is: positive\n",
      "\n",
      "\n",
      "I think it is negative\n",
      "True answer is: negative\n",
      "\n",
      "\n",
      "I think it is negative\n",
      "True answer is: positive\n",
      "\n",
      "\n",
      "I think it is positive\n",
      "True answer is: negative\n",
      "\n",
      "\n",
      "I think it is negative\n",
      "True answer is: positive\n",
      "\n",
      "\n",
      "I think it is negative\n",
      "True answer is: negative\n",
      "\n",
      "\n",
      "I think it is negative\n",
      "True answer is: positive\n",
      "\n",
      "\n",
      "I think it is negative\n",
      "True answer is: negative\n",
      "\n",
      "\n",
      "I think it is negative\n",
      "True answer is: positive\n",
      "\n",
      "\n",
      "I think it is negative\n",
      "True answer is: negative\n",
      "\n",
      "\n",
      "I think it is positive\n",
      "True answer is: positive\n",
      "\n",
      "\n",
      "I think it is positive\n",
      "True answer is: negative\n",
      "\n",
      "\n",
      "I think it is positive\n",
      "True answer is: positive\n",
      "\n",
      "\n",
      "I think it is negative\n",
      "True answer is: negative\n",
      "\n",
      "\n",
      "I think it is negative\n",
      "True answer is: positive\n",
      "\n",
      "\n",
      "I think it is positive\n",
      "True answer is: negative\n",
      "\n",
      "\n"
     ]
    }
   ],
   "source": [
    "positive_counter = 0\n",
    "negative_counter = 0\n",
    "true = 0\n",
    "\n",
    "for review in test_wordforms:\n",
    "    positive_counter = 0\n",
    "    negative_counter = 0\n",
    "    for key, value in review.items():\n",
    "        for word in value:\n",
    "            if word in unique_positive_freqlist_cleared.keys():\n",
    "                positive_counter += 1\n",
    "            if word in unique_negative_freqlist_cleared.keys():\n",
    "                negative_counter += 1\n",
    "        \n",
    "        if positive_counter > negative_counter:\n",
    "            positive = 'positive'\n",
    "            print('I think it is positive' + '\\nTrue answer is: '+key)\n",
    "            if key == positive:\n",
    "                true+=1\n",
    "        if positive_counter < negative_counter:\n",
    "            negative = 'negative'\n",
    "            print('I think it is negative' + '\\nTrue answer is: '+key)\n",
    "            if key == negative:\n",
    "                true+=1\n",
    "        if positive_counter == negative_counter:\n",
    "            print(\"I don't know\" + '\\nTrue answer is: '+key)\n",
    "        print('\\n')\n",
    "\n",
    "accuracy = (true / len(test_wordforms)) * 100\n",
    "accuracy = str(accuracy) + '%'"
   ]
  },
  {
   "cell_type": "code",
   "execution_count": 833,
   "metadata": {},
   "outputs": [
    {
     "name": "stdout",
     "output_type": "stream",
     "text": [
      "58.620689655172406%\n"
     ]
    }
   ],
   "source": [
    "print(accuracy)"
   ]
  },
  {
   "cell_type": "markdown",
   "metadata": {},
   "source": [
    "Что можно сделать? Повысить выборку, чтобы достичь большей точности. Сбалансировать размер словарей с уникальными словами для positive negative. Сделать значимость наиболее встречаемых слов выше."
   ]
  },
  {
   "cell_type": "markdown",
   "metadata": {},
   "source": [
    "# HW2 <br>\n",
    "Попробуем биграммы"
   ]
  },
  {
   "cell_type": "code",
   "execution_count": 834,
   "metadata": {},
   "outputs": [],
   "source": [
    "from pymystem3 import Mystem"
   ]
  },
  {
   "cell_type": "code",
   "execution_count": 727,
   "metadata": {},
   "outputs": [],
   "source": [
    "def parcer(text):\n",
    "    m = Mystem()\n",
    "    lemmas = m.analyze(text)\n",
    "    return(lemmas)"
   ]
  },
  {
   "cell_type": "code",
   "execution_count": 728,
   "metadata": {},
   "outputs": [],
   "source": [
    "def tag_changer(tag):\n",
    "    if tag == 'V':\n",
    "        tag = re.sub('V', 'VERB', tag)\n",
    "\n",
    "    elif tag == 'S':\n",
    "        tag = re.sub('S', 'NOUN', tag)\n",
    "\n",
    "    elif tag == 'PR':\n",
    "        tag = re.sub('PR', 'PREP', tag)\n",
    "\n",
    "    elif tag == 'A':\n",
    "        tag = re.sub('A', 'ADJ', tag)\n",
    "\n",
    "    elif tag == 'APRO':\n",
    "        tag = re.sub('APRO', 'PRON', tag)\n",
    "\n",
    "    elif tag == 'ADVPRO':\n",
    "        tag = re.sub('ADVPRO', 'ADV', tag)\n",
    "\n",
    "    elif tag == 'SPRO':\n",
    "        tag = re.sub('SPRO', 'PRON', tag)\n",
    "\n",
    "    return tag"
   ]
  },
  {
   "cell_type": "code",
   "execution_count": 865,
   "metadata": {},
   "outputs": [],
   "source": [
    "def bigramm_maker(text):\n",
    "    lemmas = parcer(text)\n",
    "    bigramms = []\n",
    "    temp = []\n",
    "    for parsing in lemmas:\n",
    "            if 'analysis' in parsing:\n",
    "                woord = parsing['text']\n",
    "\n",
    "                #это на случай иностранных слов\n",
    "\n",
    "                try:\n",
    "                    gr = parsing['analysis'][0]['gr']\n",
    "                    pos = gr.split('=')[0].split(',')[0]\n",
    "                    tag = tag_changer(pos)\n",
    "                    temp.append({tag: woord})\n",
    "                except:\n",
    "                    pass\n",
    "\n",
    "                try:\n",
    "                    if list(temp[-2].keys())[0] == 'ADJ' and tag == 'NOUN':\n",
    "                        bigramm = []\n",
    "                        bigramm.append(list(temp[-2].values())[0])\n",
    "                        bigramm.append(woord)\n",
    "                        bigramms.append(bigramm)\n",
    "                        temp = []\n",
    "                except:\n",
    "                    pass\n",
    "\n",
    "                try:\n",
    "                    if list(temp[-2].keys())[0] == 'PREP' and tag == 'NOUN':\n",
    "                        bigramm = []\n",
    "                        bigramm.append(list(temp[-2].values())[0])\n",
    "                        bigramm.append(woord)\n",
    "                        bigramms.append(bigramm)\n",
    "                        temp = []    \n",
    "                except:\n",
    "                    pass\n",
    "\n",
    "                try:\n",
    "                    if list(temp[-2].keys())[0] == 'VERB' and tag == 'NOUN':\n",
    "                        bigramm = []\n",
    "                        bigramm.append(list(temp[-2].values())[0])\n",
    "                        bigramm.append(woord)\n",
    "                        bigramms.append(bigramm)\n",
    "                        temp = []\n",
    "                except:\n",
    "                    pass\n",
    "    return bigramms"
   ]
  },
  {
   "cell_type": "markdown",
   "metadata": {},
   "source": [
    "Делаю строку для удобства анализа. Для тестовых отзывов получится список словарей, где ключ - это тональность, а значение - это список биграммы"
   ]
  },
  {
   "cell_type": "code",
   "execution_count": 842,
   "metadata": {},
   "outputs": [],
   "source": [
    "posit = ''\n",
    "for text in positive_wordforms:\n",
    "    posit = posit + ' ' + text"
   ]
  },
  {
   "cell_type": "code",
   "execution_count": 845,
   "metadata": {},
   "outputs": [],
   "source": [
    "negat = ''\n",
    "for text in negative_wordforms:\n",
    "    negat = negat + ' ' + text"
   ]
  },
  {
   "cell_type": "code",
   "execution_count": 911,
   "metadata": {},
   "outputs": [],
   "source": [
    "test_done = []\n",
    "for text in test_wordforms:\n",
    "    test_ = ''\n",
    "    if 'positive' in text:\n",
    "        for word in text['positive']:\n",
    "            test_ = test_ + ' ' + word\n",
    "        tested_bigramms = bigramm_maker(test_)\n",
    "        test_done.append({'positive': tested_bigramms})\n",
    "    else:\n",
    "        for word in text['negative']:\n",
    "            test_ = test_ + ' ' + word\n",
    "        tested_bigramms = bigramm_maker(test_)\n",
    "        test_done.append({'negative': tested_bigramms})\n"
   ]
  },
  {
   "cell_type": "code",
   "execution_count": 866,
   "metadata": {},
   "outputs": [],
   "source": [
    "pos_bigramms = bigramm_maker(posit)"
   ]
  },
  {
   "cell_type": "code",
   "execution_count": 867,
   "metadata": {},
   "outputs": [],
   "source": [
    "neg_bigramms = bigramm_maker(negat)"
   ]
  },
  {
   "cell_type": "markdown",
   "metadata": {},
   "source": [
    "Уникальные биграммы для поз"
   ]
  },
  {
   "cell_type": "code",
   "execution_count": 950,
   "metadata": {},
   "outputs": [],
   "source": [
    "b_unique_positive = []\n",
    "for bigramm in pos_bigramms:\n",
    "    if not bigramm in neg_bigramms:\n",
    "        b_unique_positive.append(bigramm)"
   ]
  },
  {
   "cell_type": "code",
   "execution_count": 951,
   "metadata": {},
   "outputs": [],
   "source": [
    "b_unique_positive_freqlist = {}\n",
    "for bigramm in b_unique_positive:\n",
    "    bigramm = bigramm[0] + ' ' + bigramm[1]\n",
    "    try:\n",
    "        b_unique_positive_freqlist[bigramm] += 1\n",
    "    except:\n",
    "        b_unique_positive_freqlist[bigramm] = 1"
   ]
  },
  {
   "cell_type": "code",
   "execution_count": 952,
   "metadata": {},
   "outputs": [],
   "source": [
    "b_unique_positive_freqlist_cleared = {}\n",
    "for key, value in b_unique_positive_freqlist.items():\n",
    "    if value > 1:\n",
    "        b_unique_positive_freqlist_cleared[key] = value"
   ]
  },
  {
   "cell_type": "markdown",
   "metadata": {},
   "source": [
    "Уникальные биграммы для нег"
   ]
  },
  {
   "cell_type": "code",
   "execution_count": 954,
   "metadata": {},
   "outputs": [],
   "source": [
    "b_unique_negative = []\n",
    "for bigramm in neg_bigramms:\n",
    "    if not bigramm in pos_bigramms:\n",
    "        b_unique_negative.append(bigramm)"
   ]
  },
  {
   "cell_type": "code",
   "execution_count": 955,
   "metadata": {},
   "outputs": [],
   "source": [
    "b_unique_negative_freqlist = {}\n",
    "for bigramm in b_unique_negative:\n",
    "    bigramm = bigramm[0] + ' ' + bigramm[1]\n",
    "    try:\n",
    "        b_unique_negative_freqlist[bigramm] += 1\n",
    "    except:\n",
    "        b_unique_negative_freqlist[bigramm] = 1"
   ]
  },
  {
   "cell_type": "code",
   "execution_count": 956,
   "metadata": {},
   "outputs": [],
   "source": [
    "b_unique_negative_freqlist_cleared = {}\n",
    "for key, value in b_unique_negative_freqlist.items():\n",
    "    if value > 1:\n",
    "        b_unique_negative_freqlist_cleared[key] = value"
   ]
  },
  {
   "cell_type": "markdown",
   "metadata": {},
   "source": [
    "Проверка точности"
   ]
  },
  {
   "cell_type": "code",
   "execution_count": 973,
   "metadata": {},
   "outputs": [
    {
     "name": "stdout",
     "output_type": "stream",
     "text": [
      "I think it is negative\n",
      "True answer is: positive\n",
      "\n",
      "\n",
      "I think it is negative\n",
      "True answer is: negative\n",
      "\n",
      "\n",
      "I don't know\n",
      "True answer is: positive\n",
      "\n",
      "\n",
      "I think it is negative\n",
      "True answer is: negative\n",
      "\n",
      "\n",
      "I don't know\n",
      "True answer is: positive\n",
      "\n",
      "\n",
      "I think it is positive\n",
      "True answer is: negative\n",
      "\n",
      "\n",
      "I don't know\n",
      "True answer is: positive\n",
      "\n",
      "\n",
      "I think it is positive\n",
      "True answer is: positive\n",
      "\n",
      "\n",
      "I think it is positive\n",
      "True answer is: negative\n",
      "\n",
      "\n",
      "I think it is negative\n",
      "True answer is: positive\n",
      "\n",
      "\n",
      "I think it is negative\n",
      "True answer is: negative\n",
      "\n",
      "\n",
      "I think it is negative\n",
      "True answer is: positive\n",
      "\n",
      "\n",
      "I don't know\n",
      "True answer is: negative\n",
      "\n",
      "\n",
      "I think it is negative\n",
      "True answer is: positive\n",
      "\n",
      "\n",
      "I don't know\n",
      "True answer is: negative\n",
      "\n",
      "\n",
      "I don't know\n",
      "True answer is: positive\n",
      "\n",
      "\n",
      "I don't know\n",
      "True answer is: negative\n",
      "\n",
      "\n",
      "I think it is negative\n",
      "True answer is: positive\n",
      "\n",
      "\n",
      "I think it is negative\n",
      "True answer is: negative\n",
      "\n",
      "\n",
      "I think it is negative\n",
      "True answer is: positive\n",
      "\n",
      "\n",
      "I think it is negative\n",
      "True answer is: negative\n",
      "\n",
      "\n",
      "I think it is negative\n",
      "True answer is: positive\n",
      "\n",
      "\n",
      "I think it is negative\n",
      "True answer is: negative\n",
      "\n",
      "\n",
      "I think it is positive\n",
      "True answer is: positive\n",
      "\n",
      "\n",
      "I think it is positive\n",
      "True answer is: negative\n",
      "\n",
      "\n",
      "I think it is negative\n",
      "True answer is: positive\n",
      "\n",
      "\n",
      "I think it is negative\n",
      "True answer is: negative\n",
      "\n",
      "\n",
      "I don't know\n",
      "True answer is: positive\n",
      "\n",
      "\n",
      "I think it is positive\n",
      "True answer is: negative\n",
      "\n",
      "\n",
      "I think it is positive\n",
      "True answer is: positive\n",
      "\n",
      "\n",
      "I think it is negative\n",
      "True answer is: negative\n",
      "\n",
      "\n",
      "I don't know\n",
      "True answer is: positive\n",
      "\n",
      "\n",
      "I think it is negative\n",
      "True answer is: negative\n",
      "\n",
      "\n",
      "I think it is positive\n",
      "True answer is: positive\n",
      "\n",
      "\n",
      "I think it is positive\n",
      "True answer is: negative\n",
      "\n",
      "\n",
      "I don't know\n",
      "True answer is: positive\n",
      "\n",
      "\n",
      "I think it is negative\n",
      "True answer is: negative\n",
      "\n",
      "\n",
      "I don't know\n",
      "True answer is: positive\n",
      "\n",
      "\n",
      "I think it is negative\n",
      "True answer is: negative\n",
      "\n",
      "\n",
      "I think it is negative\n",
      "True answer is: positive\n",
      "\n",
      "\n",
      "I think it is positive\n",
      "True answer is: positive\n",
      "\n",
      "\n",
      "I think it is negative\n",
      "True answer is: positive\n",
      "\n",
      "\n",
      "I don't know\n",
      "True answer is: positive\n",
      "\n",
      "\n",
      "I don't know\n",
      "True answer is: negative\n",
      "\n",
      "\n",
      "I think it is positive\n",
      "True answer is: positive\n",
      "\n",
      "\n",
      "I think it is negative\n",
      "True answer is: negative\n",
      "\n",
      "\n",
      "I think it is negative\n",
      "True answer is: positive\n",
      "\n",
      "\n",
      "I don't know\n",
      "True answer is: negative\n",
      "\n",
      "\n",
      "I think it is negative\n",
      "True answer is: positive\n",
      "\n",
      "\n",
      "I think it is negative\n",
      "True answer is: negative\n",
      "\n",
      "\n",
      "I think it is positive\n",
      "True answer is: positive\n",
      "\n",
      "\n",
      "I don't know\n",
      "True answer is: negative\n",
      "\n",
      "\n",
      "I think it is positive\n",
      "True answer is: positive\n",
      "\n",
      "\n",
      "I think it is negative\n",
      "True answer is: negative\n",
      "\n",
      "\n",
      "I don't know\n",
      "True answer is: positive\n",
      "\n",
      "\n",
      "I don't know\n",
      "True answer is: negative\n",
      "\n",
      "\n",
      "I don't know\n",
      "True answer is: positive\n",
      "\n",
      "\n",
      "I don't know\n",
      "True answer is: negative\n",
      "\n",
      "\n"
     ]
    }
   ],
   "source": [
    "positive_counter = 0\n",
    "negative_counter = 0\n",
    "true = 0\n",
    "\n",
    "for review in test_done:\n",
    "    positive_counter = 0\n",
    "    negative_counter = 0\n",
    "    for key, value in review.items():\n",
    "        for bigramm in value:\n",
    "            word = bigramm[0] + ' ' + bigramm[1]\n",
    "            if word in b_unique_positive_freqlist_cleared.keys():\n",
    "                positive_counter += 1\n",
    "            if word in b_unique_negative_freqlist_cleared.keys():\n",
    "                negative_counter += 1\n",
    "        \n",
    "        if positive_counter > negative_counter:\n",
    "            positive = 'positive'\n",
    "            print('I think it is positive' + '\\nTrue answer is: '+key)\n",
    "            if key == positive:\n",
    "                true+=1\n",
    "        if positive_counter < negative_counter:\n",
    "            negative = 'negative'\n",
    "            print('I think it is negative' + '\\nTrue answer is: '+key)\n",
    "            if key == negative:\n",
    "                true+=1\n",
    "        if positive_counter == negative_counter:\n",
    "            print(\"I don't know\" + '\\nTrue answer is: '+key)\n",
    "        print('\\n')\n",
    "\n",
    "accuracy = (true / len(test_done)) * 100\n",
    "accuracy = str(accuracy) + '%'"
   ]
  },
  {
   "cell_type": "code",
   "execution_count": 972,
   "metadata": {},
   "outputs": [
    {
     "data": {
      "text/plain": [
       "'37.93103448275862%'"
      ]
     },
     "execution_count": 972,
     "metadata": {},
     "output_type": "execute_result"
    }
   ],
   "source": [
    "accuracy"
   ]
  },
  {
   "cell_type": "markdown",
   "metadata": {},
   "source": [
    "Такая себе точность, слишком маленькая выборка биграмм."
   ]
  }
 ],
 "metadata": {
  "kernelspec": {
   "display_name": "Python 3",
   "language": "python",
   "name": "python3"
  },
  "language_info": {
   "codemirror_mode": {
    "name": "ipython",
    "version": 3
   },
   "file_extension": ".py",
   "mimetype": "text/x-python",
   "name": "python",
   "nbconvert_exporter": "python",
   "pygments_lexer": "ipython3",
   "version": "3.8.5"
  }
 },
 "nbformat": 4,
 "nbformat_minor": 4
}
