{
 "cells": [
  {
   "cell_type": "markdown",
   "metadata": {},
   "source": [
    "**Арцишевский Антон, дз 2.2**"
   ]
  },
  {
   "cell_type": "markdown",
   "metadata": {},
   "source": [
    "На всякий импортирую сразу несколько модулей, да побольше"
   ]
  },
  {
   "cell_type": "code",
   "execution_count": 1,
   "metadata": {},
   "outputs": [],
   "source": [
    "%load_ext pycodestyle_magic\n",
    "%flake8_on\n",
    "import matplotlib.pyplot as plt\n",
    "%matplotlib inline\n",
    "import seaborn as sns\n",
    "import json\n",
    "import nltk\n",
    "from nltk.tokenize import word_tokenize\n",
    "from pymorphy2 import MorphAnalyzer\n",
    "import pandas as pd"
   ]
  },
  {
   "cell_type": "markdown",
   "metadata": {},
   "source": [
    "Заново прочитаю книгу и отчищу от пунктуации"
   ]
  },
  {
   "cell_type": "code",
   "execution_count": 2,
   "metadata": {},
   "outputs": [],
   "source": [
    "from string import punctuation\n",
    "with open('foundations_Asimov.txt', encoding='utf-8') as text:\n",
    "    text = text.read()\n",
    "for i in punctuation:\n",
    "    text = text.replace(i, '')\n",
    "text = text.replace('\\n', ' ')"
   ]
  },
  {
   "cell_type": "markdown",
   "metadata": {},
   "source": [
    "Токенизирую текст, создаю словарь с данными для датафрейма, записываю это в json файл (прост так) и создаю датафрейм"
   ]
  },
  {
   "cell_type": "code",
   "execution_count": 3,
   "metadata": {},
   "outputs": [],
   "source": [
    "words = [w.lower() for w in word_tokenize(text) if w.isalpha()]\n",
    "morph = MorphAnalyzer()\n",
    "gram_razbor = []\n",
    "for word in words:\n",
    "    morph_asimov = morph.parse(word)\n",
    "    wordform = morph_asimov[0].word\n",
    "    lexemma = morph_asimov[0].normal_form\n",
    "    case = morph_asimov[0].tag.case\n",
    "    pos = morph_asimov[0].tag.POS\n",
    "    gender = morph_asimov[0].tag.gender\n",
    "    number = morph_asimov[0].tag.number\n",
    "    simple_list = [{'СЛОВО': wordform, 'ЛЕКСЕМА': lexemma,\n",
    "                    'ЧАСТЬ РЕЧИ': pos, 'ПАДЕЖ': case,\n",
    "                    'РОД': gender, 'ЧИСЛО': number}]\n",
    "    gram_razbor.extend(simple_list)\n",
    "with open('pymorphy_Asimov1.json', 'w', encoding='utf-8') as f:\n",
    "    json_pymorpy_Asimov = json.dump(gram_razbor, f, ensure_ascii=False)\n",
    "df = pd.DataFrame(gram_razbor)"
   ]
  },
  {
   "cell_type": "markdown",
   "metadata": {},
   "source": [
    "Сохраню данные в файл формата csv"
   ]
  },
  {
   "cell_type": "code",
   "execution_count": 4,
   "metadata": {},
   "outputs": [],
   "source": [
    "df.to_csv('dataframe.csv', sep='\\t', index=False)"
   ]
  },
  {
   "cell_type": "markdown",
   "metadata": {},
   "source": [
    "### Задание 1\n",
    "Я распечатал датафрейм и добавил помимо значений падежа другие показатели. В задании не требуется распечатать всё."
   ]
  },
  {
   "cell_type": "code",
   "execution_count": 5,
   "metadata": {},
   "outputs": [
    {
     "data": {
      "text/html": [
       "<div>\n",
       "<style scoped>\n",
       "    .dataframe tbody tr th:only-of-type {\n",
       "        vertical-align: middle;\n",
       "    }\n",
       "\n",
       "    .dataframe tbody tr th {\n",
       "        vertical-align: top;\n",
       "    }\n",
       "\n",
       "    .dataframe thead th {\n",
       "        text-align: right;\n",
       "    }\n",
       "</style>\n",
       "<table border=\"1\" class=\"dataframe\">\n",
       "  <thead>\n",
       "    <tr style=\"text-align: right;\">\n",
       "      <th></th>\n",
       "      <th>СЛОВО</th>\n",
       "      <th>ЛЕКСЕМА</th>\n",
       "      <th>ЧАСТЬ РЕЧИ</th>\n",
       "      <th>ПАДЕЖ</th>\n",
       "      <th>РОД</th>\n",
       "      <th>ЧИСЛО</th>\n",
       "    </tr>\n",
       "  </thead>\n",
       "  <tbody>\n",
       "    <tr>\n",
       "      <th>0</th>\n",
       "      <td>азимов</td>\n",
       "      <td>азим</td>\n",
       "      <td>NOUN</td>\n",
       "      <td>gent</td>\n",
       "      <td>masc</td>\n",
       "      <td>plur</td>\n",
       "    </tr>\n",
       "    <tr>\n",
       "      <th>1</th>\n",
       "      <td>прелюдия</td>\n",
       "      <td>прелюдия</td>\n",
       "      <td>NOUN</td>\n",
       "      <td>nomn</td>\n",
       "      <td>femn</td>\n",
       "      <td>sing</td>\n",
       "    </tr>\n",
       "    <tr>\n",
       "      <th>2</th>\n",
       "      <td>к</td>\n",
       "      <td>к</td>\n",
       "      <td>PREP</td>\n",
       "      <td></td>\n",
       "      <td></td>\n",
       "      <td></td>\n",
       "    </tr>\n",
       "    <tr>\n",
       "      <th>3</th>\n",
       "      <td>клеон</td>\n",
       "      <td>клеон</td>\n",
       "      <td>NOUN</td>\n",
       "      <td>nomn</td>\n",
       "      <td>masc</td>\n",
       "      <td>sing</td>\n",
       "    </tr>\n",
       "    <tr>\n",
       "      <th>4</th>\n",
       "      <td>i</td>\n",
       "      <td>i</td>\n",
       "      <td></td>\n",
       "      <td></td>\n",
       "      <td></td>\n",
       "      <td></td>\n",
       "    </tr>\n",
       "    <tr>\n",
       "      <th>5</th>\n",
       "      <td>последний</td>\n",
       "      <td>последний</td>\n",
       "      <td>ADJF</td>\n",
       "      <td>nomn</td>\n",
       "      <td>masc</td>\n",
       "      <td>sing</td>\n",
       "    </tr>\n",
       "    <tr>\n",
       "      <th>6</th>\n",
       "      <td>галактический</td>\n",
       "      <td>галактический</td>\n",
       "      <td>ADJF</td>\n",
       "      <td>nomn</td>\n",
       "      <td>masc</td>\n",
       "      <td>sing</td>\n",
       "    </tr>\n",
       "    <tr>\n",
       "      <th>7</th>\n",
       "      <td>император</td>\n",
       "      <td>император</td>\n",
       "      <td>NOUN</td>\n",
       "      <td>nomn</td>\n",
       "      <td>masc</td>\n",
       "      <td>sing</td>\n",
       "    </tr>\n",
       "    <tr>\n",
       "      <th>8</th>\n",
       "      <td>из</td>\n",
       "      <td>из</td>\n",
       "      <td>PREP</td>\n",
       "      <td></td>\n",
       "      <td></td>\n",
       "      <td></td>\n",
       "    </tr>\n",
       "    <tr>\n",
       "      <th>9</th>\n",
       "      <td>династии</td>\n",
       "      <td>династия</td>\n",
       "      <td>NOUN</td>\n",
       "      <td>gent</td>\n",
       "      <td>femn</td>\n",
       "      <td>sing</td>\n",
       "    </tr>\n",
       "  </tbody>\n",
       "</table>\n",
       "</div>"
      ],
      "text/plain": [
       "           СЛОВО        ЛЕКСЕМА ЧАСТЬ РЕЧИ ПАДЕЖ   РОД ЧИСЛО\n",
       "0         азимов           азим       NOUN  gent  masc  plur\n",
       "1       прелюдия       прелюдия       NOUN  nomn  femn  sing\n",
       "2              к              к       PREP                  \n",
       "3          клеон          клеон       NOUN  nomn  masc  sing\n",
       "4              i              i                             \n",
       "5      последний      последний       ADJF  nomn  masc  sing\n",
       "6  галактический  галактический       ADJF  nomn  masc  sing\n",
       "7      император      император       NOUN  nomn  masc  sing\n",
       "8             из             из       PREP                  \n",
       "9       династии       династия       NOUN  gent  femn  sing"
      ]
     },
     "execution_count": 5,
     "metadata": {},
     "output_type": "execute_result"
    }
   ],
   "source": [
    "asimov = pd.read_csv('dataframe.csv', sep='\\t').fillna('')\n",
    "asimov.head(10)"
   ]
  },
  {
   "cell_type": "markdown",
   "metadata": {},
   "source": [
    "### Задание 2\n",
    "Сделаю барплот"
   ]
  },
  {
   "cell_type": "code",
   "execution_count": 6,
   "metadata": {},
   "outputs": [
    {
     "data": {
      "text/plain": [
       "Text(0, 0.5, 'Кол-во вхождений')"
      ]
     },
     "execution_count": 6,
     "metadata": {},
     "output_type": "execute_result"
    },
    {
     "data": {
      "image/png": "[encoded data removed]",
      "text/plain": [
       "<Figure size 432x288 with 1 Axes>"
      ]
     },
     "metadata": {
      "needs_background": "light"
     },
     "output_type": "display_data"
    }
   ],
   "source": [
    "asimov['РОД'].value_counts().plot.bar(color='purple')\n",
    "plt.title('Кол-во вхождений слов разных родов')\n",
    "plt.xlabel('Род')\n",
    "plt.ylabel('Кол-во вхождений')"
   ]
  },
  {
   "cell_type": "markdown",
   "metadata": {},
   "source": [
    "Сделаю кружочег"
   ]
  },
  {
   "cell_type": "code",
   "execution_count": 7,
   "metadata": {},
   "outputs": [
    {
     "data": {
      "text/plain": [
       "Text(0.5, 1.0, 'Распределение рода')"
      ]
     },
     "execution_count": 7,
     "metadata": {},
     "output_type": "execute_result"
    },
    {
     "data": {
      "image/png": "[encoded data removed]",
      "text/plain": [
       "<Figure size 432x432 with 1 Axes>"
      ]
     },
     "metadata": {},
     "output_type": "display_data"
    }
   ],
   "source": [
    "plt.figure(figsize=(6, 6))\n",
    "asimov['РОД'].value_counts().plot(kind='pie')\n",
    "plt.title('Распределение рода')"
   ]
  },
  {
   "cell_type": "markdown",
   "metadata": {},
   "source": [
    "Сделаю ещё один красивенький барплот"
   ]
  },
  {
   "cell_type": "code",
   "execution_count": 8,
   "metadata": {},
   "outputs": [
    {
     "data": {
      "text/plain": [
       "Text(0, 0.5, 'Кол-во вхождений')"
      ]
     },
     "execution_count": 8,
     "metadata": {},
     "output_type": "execute_result"
    },
    {
     "data": {
      "image/png": "[encoded data removed]",
      "text/plain": [
       "<Figure size 432x288 with 1 Axes>"
      ]
     },
     "metadata": {
      "needs_background": "light"
     },
     "output_type": "display_data"
    }
   ],
   "source": [
    "df2 = asimov[\n",
    "    (asimov['РОД'] != '') & (asimov['РОД'] != 'мж')\n",
    "][\n",
    "    ['ЧАСТЬ РЕЧИ', 'РОД', 'ЧИСЛО']\n",
    "].groupby(['ЧАСТЬ РЕЧИ', 'РОД'], as_index=False).count()\n",
    "\n",
    "df2.columns = ['ЧАСТЬ РЕЧИ', 'РОД', 'total']\n",
    "sns.barplot(x=\"ЧАСТЬ РЕЧИ\", y=\"total\", hue='РОД', data=df2)\n",
    "plt.title('Род по частям речи')\n",
    "plt.xlabel('Часть речи')\n",
    "plt.ylabel('Кол-во вхождений')"
   ]
  },
  {
   "cell_type": "markdown",
   "metadata": {},
   "source": [
    "### Задание 3\n",
    "Сделаю боксплот, показывающий длину лемм различных частей речи"
   ]
  },
  {
   "cell_type": "code",
   "execution_count": 9,
   "metadata": {},
   "outputs": [],
   "source": [
    "df2 = asimov[['ЛЕКСЕМА', 'ЧАСТЬ РЕЧИ', 'РОД']].groupby(\n",
    "    ['ЛЕКСЕМА', 'ЧАСТЬ РЕЧИ'], as_index=False).count()\n",
    "df2.columns = ['ЛЕКСЕМА', 'ЧАСТЬ РЕЧИ', 'total']\n",
    "df2 = df2[df2['total'] > 10]"
   ]
  },
  {
   "cell_type": "code",
   "execution_count": 10,
   "metadata": {},
   "outputs": [
    {
     "data": {
      "text/plain": [
       "Text(0.5, 0, 'Часть речи')"
      ]
     },
     "execution_count": 10,
     "metadata": {},
     "output_type": "execute_result"
    },
    {
     "data": {
      "image/png": "[encoded data removed]",
      "text/plain": [
       "<Figure size 720x432 with 1 Axes>"
      ]
     },
     "metadata": {
      "needs_background": "light"
     },
     "output_type": "display_data"
    }
   ],
   "source": [
    "df2['ДЛИНА'] = df2['ЛЕКСЕМА'].apply(len)\n",
    "plt.figure(figsize=(10, 6))\n",
    "sns.boxplot(x=\"ЧАСТЬ РЕЧИ\", y=\"ДЛИНА\", data=df2)\n",
    "plt.ylim((0, 25))\n",
    "plt.title('Длина лемм различных частей речи')\n",
    "plt.ylabel('Длина слова')\n",
    "plt.xlabel('Часть речи')"
   ]
  },
  {
   "cell_type": "markdown",
   "metadata": {},
   "source": [
    "Сделаю барплот, показывающий распределение числа у различных родов"
   ]
  },
  {
   "cell_type": "code",
   "execution_count": 11,
   "metadata": {},
   "outputs": [
    {
     "data": {
      "text/plain": [
       "Text(0, 0.5, 'Число вхождений')"
      ]
     },
     "execution_count": 11,
     "metadata": {},
     "output_type": "execute_result"
    },
    {
     "data": {
      "image/png": "[encoded data removed]",
      "text/plain": [
       "<Figure size 432x288 with 1 Axes>"
      ]
     },
     "metadata": {
      "needs_background": "light"
     },
     "output_type": "display_data"
    }
   ],
   "source": [
    "df2 = asimov[\n",
    "    (asimov['РОД'] != '') & (asimov['РОД'] != 'мж')\n",
    "][\n",
    "    ['ЧАСТЬ РЕЧИ', 'РОД', 'ЧИСЛО']\n",
    "].groupby(['РОД', 'ЧИСЛО'], as_index=False).count()\n",
    "\n",
    "df2.columns = ['РОД', 'ЧИСЛО', 'total']\n",
    "sns.barplot(x=\"РОД\", y=\"total\", hue='ЧИСЛО', data=df2)\n",
    "plt.title('Число по роду')\n",
    "plt.xlabel('Род')\n",
    "plt.ylabel('Число вхождений')"
   ]
  },
  {
   "cell_type": "markdown",
   "metadata": {},
   "source": [
    "### Задание 4"
   ]
  },
  {
   "cell_type": "code",
   "execution_count": 12,
   "metadata": {},
   "outputs": [],
   "source": [
    "from pymystem3 import Mystem\n",
    "m = Mystem()\n",
    "lemmas = m.lemmatize(text)"
   ]
  },
  {
   "cell_type": "markdown",
   "metadata": {},
   "source": [
    "4 способа делания одного и того же"
   ]
  },
  {
   "cell_type": "code",
   "execution_count": 13,
   "metadata": {},
   "outputs": [
    {
     "data": {
      "image/png": "[encoded data removed]",
      "text/plain": [
       "<Figure size 432x288 with 1 Axes>"
      ]
     },
     "metadata": {
      "needs_background": "light"
     },
     "output_type": "display_data"
    }
   ],
   "source": [
    "from nltk.probability import FreqDist\n",
    "from matplotlib import pylab\n",
    "import nltk.compat\n",
    "\n",
    "words = ['клеон', 'демерзел', 'селдон']\n",
    "text = lemmas\n",
    "words.reverse()\n",
    "\n",
    "points = [(x, y)\n",
    "          for x in range(len(text))\n",
    "          for y in range(len(words))\n",
    "          if text[x] == words[y]]\n",
    "\n",
    "if points:\n",
    "    x, y = zip(*points)\n",
    "\n",
    "else:\n",
    "    x = y = ()\n",
    "\n",
    "plt.plot(x, y, \"b|\", scalex=0.1)\n",
    "plt.yticks(range(len(words)), words, color=\"b\")\n",
    "plt.ylim(-1, len(words))\n",
    "plt.title(\"Lexical Dispersion Plot\")\n",
    "plt.xlabel(\"Word Offset\")\n",
    "plt.show()"
   ]
  },
  {
   "cell_type": "code",
   "execution_count": 14,
   "metadata": {
    "scrolled": true
   },
   "outputs": [
    {
     "name": "stderr",
     "output_type": "stream",
     "text": [
      "c:\\users\\trekc\\appdata\\local\\programs\\python\\python37-32\\lib\\site-packages\\nltk\\draw\\__init__.py:15: UserWarning: nltk.draw package not loaded (please install Tkinter library).\n",
      "  warnings.warn(\"nltk.draw package not loaded \" \"(please install Tkinter library).\")\n"
     ]
    },
    {
     "data": {
      "image/png": "[encoded data removed]",
      "text/plain": [
       "<Figure size 432x288 with 1 Axes>"
      ]
     },
     "metadata": {
      "needs_background": "light"
     },
     "output_type": "display_data"
    }
   ],
   "source": [
    "text = lemmas\n",
    "words = ['клеон', 'демерзел', 'селдон']\n",
    "# text.dispersion_plot(words)\n",
    "nltk.draw.dispersion_plot(text, words)"
   ]
  },
  {
   "cell_type": "code",
   "execution_count": 17,
   "metadata": {},
   "outputs": [
    {
     "data": {
      "image/png": "[encoded data removed]",
      "text/plain": [
       "<Figure size 432x288 with 1 Axes>"
      ]
     },
     "metadata": {
      "needs_background": "light"
     },
     "output_type": "display_data"
    }
   ],
   "source": [
    "import nltk.book\n",
    "text = lemmas\n",
    "words = ['клеон', 'демерзел', 'селдон']\n",
    "nltk.draw.dispersion_plot(text, words)"
   ]
  },
  {
   "cell_type": "code",
   "execution_count": 23,
   "metadata": {},
   "outputs": [
    {
     "data": {
      "image/png": "[encoded data removed]",
      "text/plain": [
       "<Figure size 432x288 with 1 Axes>"
      ]
     },
     "metadata": {
      "needs_background": "light"
     },
     "output_type": "display_data"
    }
   ],
   "source": [
    "text = nltk.Text(lemmas)\n",
    "words = ['клеон', 'демерзел', 'селдон']\n",
    "nltk.draw.dispersion_plot(text, words)"
   ]
  }
 ],
 "metadata": {
  "kernelspec": {
   "display_name": "Python 3",
   "language": "python",
   "name": "python3"
  },
  "language_info": {
   "codemirror_mode": {
    "name": "ipython",
    "version": 3
   },
   "file_extension": ".py",
   "mimetype": "text/x-python",
   "name": "python",
   "nbconvert_exporter": "python",
   "pygments_lexer": "ipython3",
   "version": "3.7.4"
  }
 },
 "nbformat": 4,
 "nbformat_minor": 2
}
