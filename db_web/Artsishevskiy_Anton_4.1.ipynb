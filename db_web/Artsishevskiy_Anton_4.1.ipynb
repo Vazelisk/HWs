{
 "cells": [
  {
   "cell_type": "markdown",
   "metadata": {},
   "source": [
    "##### Арцишевский Антон, дз 4.1 "
   ]
  },
  {
   "cell_type": "code",
   "execution_count": 11,
   "metadata": {},
   "outputs": [],
   "source": [
    "import sqlite3\n",
    "import random\n",
    "random.seed = 23\n",
    "import pandas as pd\n",
    "import csv\n",
    "import matplotlib.pyplot as plt\n",
    "%matplotlib inline\n",
    "import seaborn as sns"
   ]
  },
  {
   "cell_type": "markdown",
   "metadata": {},
   "source": [
    "Создаю таблицы в dbrowser:\n",
    "таблица informants c колонками Informant_Id, Name, Age, Gender\n",
    "таблица Answers c колонками Informant_Id, answer_1 - answer_5, reaction_1 - reaction_5\n",
    "Эти две таблицы связаны по Informant_Id с помощью foreigh_key"
   ]
  },
  {
   "cell_type": "markdown",
   "metadata": {},
   "source": [
    "Подключу бд и создам курсор"
   ]
  },
  {
   "cell_type": "code",
   "execution_count": 12,
   "metadata": {},
   "outputs": [],
   "source": [
    "con = sqlite3.connect('123.db')\n",
    "c = con.cursor()"
   ]
  },
  {
   "cell_type": "markdown",
   "metadata": {},
   "source": [
    "Создам кортежи с данными для таблицы про информантов"
   ]
  },
  {
   "cell_type": "code",
   "execution_count": 13,
   "metadata": {},
   "outputs": [],
   "source": [
    "name = (\"Вася\", \"Петя\", \"Катя\", \"Саша\", \"Маша\", \"Коля\", \"Костя\",\n",
    "          \"Антон\", \"Олег\", \"Ахмед\", \"Султан\", \"Вова\", \"Вера\", \"Аня\",\n",
    "          \"Гера\", \"Галя\", \"Маня\", \"Серафима\", \"Ваня\", \"Карабас\",\n",
    "         \"Наташа\", \"Сережа\")\n",
    "\n",
    "surname = (\"Коробкина\", \"Путин\", \"Медведев\", \"Навальный\", \"Чайка\", \"Шевчук\",\n",
    "          \"Орлов\", \"Собянин\", \"Лужков\", \"Мединский\", \"Шайгу\", \"Обэма\",\n",
    "          \"Явлинский\", \"Янукович\", \"Зеленский\")\n",
    "\n",
    "genders = (\"муж\", \"жен\")"
   ]
  },
  {
   "cell_type": "markdown",
   "metadata": {},
   "source": [
    "Создам датафрейм на основе полученных данных"
   ]
  },
  {
   "cell_type": "code",
   "execution_count": 14,
   "metadata": {},
   "outputs": [
    {
     "data": {
      "text/html": [
       "<div>\n",
       "<style scoped>\n",
       "    .dataframe tbody tr th:only-of-type {\n",
       "        vertical-align: middle;\n",
       "    }\n",
       "\n",
       "    .dataframe tbody tr th {\n",
       "        vertical-align: top;\n",
       "    }\n",
       "\n",
       "    .dataframe thead th {\n",
       "        text-align: right;\n",
       "    }\n",
       "</style>\n",
       "<table border=\"1\" class=\"dataframe\">\n",
       "  <thead>\n",
       "    <tr style=\"text-align: right;\">\n",
       "      <th></th>\n",
       "      <th>Informant_Id</th>\n",
       "      <th>Name</th>\n",
       "      <th>Age</th>\n",
       "      <th>Gender</th>\n",
       "    </tr>\n",
       "  </thead>\n",
       "  <tbody>\n",
       "    <tr>\n",
       "      <th>0</th>\n",
       "      <td>0</td>\n",
       "      <td>Маня Путин</td>\n",
       "      <td>64</td>\n",
       "      <td>муж</td>\n",
       "    </tr>\n",
       "    <tr>\n",
       "      <th>1</th>\n",
       "      <td>1</td>\n",
       "      <td>Олег Коробкина</td>\n",
       "      <td>30</td>\n",
       "      <td>муж</td>\n",
       "    </tr>\n",
       "    <tr>\n",
       "      <th>2</th>\n",
       "      <td>2</td>\n",
       "      <td>Олег Зеленский</td>\n",
       "      <td>38</td>\n",
       "      <td>муж</td>\n",
       "    </tr>\n",
       "    <tr>\n",
       "      <th>3</th>\n",
       "      <td>3</td>\n",
       "      <td>Аня Мединский</td>\n",
       "      <td>38</td>\n",
       "      <td>жен</td>\n",
       "    </tr>\n",
       "    <tr>\n",
       "      <th>4</th>\n",
       "      <td>4</td>\n",
       "      <td>Саша Чайка</td>\n",
       "      <td>68</td>\n",
       "      <td>жен</td>\n",
       "    </tr>\n",
       "    <tr>\n",
       "      <th>...</th>\n",
       "      <td>...</td>\n",
       "      <td>...</td>\n",
       "      <td>...</td>\n",
       "      <td>...</td>\n",
       "    </tr>\n",
       "    <tr>\n",
       "      <th>95</th>\n",
       "      <td>95</td>\n",
       "      <td>Серафима Мединский</td>\n",
       "      <td>33</td>\n",
       "      <td>жен</td>\n",
       "    </tr>\n",
       "    <tr>\n",
       "      <th>96</th>\n",
       "      <td>96</td>\n",
       "      <td>Карабас Собянин</td>\n",
       "      <td>22</td>\n",
       "      <td>муж</td>\n",
       "    </tr>\n",
       "    <tr>\n",
       "      <th>97</th>\n",
       "      <td>97</td>\n",
       "      <td>Ахмед Чайка</td>\n",
       "      <td>67</td>\n",
       "      <td>муж</td>\n",
       "    </tr>\n",
       "    <tr>\n",
       "      <th>98</th>\n",
       "      <td>98</td>\n",
       "      <td>Султан Медведев</td>\n",
       "      <td>33</td>\n",
       "      <td>муж</td>\n",
       "    </tr>\n",
       "    <tr>\n",
       "      <th>99</th>\n",
       "      <td>99</td>\n",
       "      <td>Серафима Янукович</td>\n",
       "      <td>30</td>\n",
       "      <td>жен</td>\n",
       "    </tr>\n",
       "  </tbody>\n",
       "</table>\n",
       "<p>100 rows × 4 columns</p>\n",
       "</div>"
      ],
      "text/plain": [
       "    Informant_Id                Name  Age Gender\n",
       "0              0          Маня Путин   64    муж\n",
       "1              1      Олег Коробкина   30    муж\n",
       "2              2      Олег Зеленский   38    муж\n",
       "3              3       Аня Мединский   38    жен\n",
       "4              4          Саша Чайка   68    жен\n",
       "..           ...                 ...  ...    ...\n",
       "95            95  Серафима Мединский   33    жен\n",
       "96            96     Карабас Собянин   22    муж\n",
       "97            97         Ахмед Чайка   67    муж\n",
       "98            98     Султан Медведев   33    муж\n",
       "99            99   Серафима Янукович   30    жен\n",
       "\n",
       "[100 rows x 4 columns]"
      ]
     },
     "execution_count": 14,
     "metadata": {},
     "output_type": "execute_result"
    }
   ],
   "source": [
    "dictionary = {'Informant_Id': [], 'Name': [], 'Age': [], 'Gender': []}\n",
    "for i in range(100):\n",
    "    name_insert = random.choice(name) + ' ' + random.choice(surname)\n",
    "    gender = random.choice(genders)\n",
    "    age = random.randint(18, 69)\n",
    "    dictionary['Informant_Id'] = dictionary['Informant_Id'] + [i]\n",
    "    dictionary['Name'] = dictionary['Name'] + [name_insert]\n",
    "    dictionary['Age'] = dictionary['Age'] + [age]\n",
    "    dictionary['Gender'] = dictionary['Gender'] + [gender]\n",
    "df = pd.DataFrame(dictionary)\n",
    "df"
   ]
  },
  {
   "cell_type": "markdown",
   "metadata": {},
   "source": [
    "Закину данные датафрейма в бд"
   ]
  },
  {
   "cell_type": "code",
   "execution_count": 15,
   "metadata": {},
   "outputs": [],
   "source": [
    "df.to_sql(name='informants', con=con, if_exists='replace', index=False)\n",
    "con.commit()"
   ]
  },
  {
   "cell_type": "markdown",
   "metadata": {},
   "source": [
    "Создам данные для таблицы с ответами и создам датафрейм"
   ]
  },
  {
   "cell_type": "code",
   "execution_count": 16,
   "metadata": {},
   "outputs": [
    {
     "data": {
      "text/html": [
       "<div>\n",
       "<style scoped>\n",
       "    .dataframe tbody tr th:only-of-type {\n",
       "        vertical-align: middle;\n",
       "    }\n",
       "\n",
       "    .dataframe tbody tr th {\n",
       "        vertical-align: top;\n",
       "    }\n",
       "\n",
       "    .dataframe thead th {\n",
       "        text-align: right;\n",
       "    }\n",
       "</style>\n",
       "<table border=\"1\" class=\"dataframe\">\n",
       "  <thead>\n",
       "    <tr style=\"text-align: right;\">\n",
       "      <th></th>\n",
       "      <th>Informant_Id</th>\n",
       "      <th>answer_1</th>\n",
       "      <th>answer_2</th>\n",
       "      <th>answer_3</th>\n",
       "      <th>answer_4</th>\n",
       "      <th>answer_5</th>\n",
       "      <th>reaction_1</th>\n",
       "      <th>reaction_2</th>\n",
       "      <th>reaction_3</th>\n",
       "      <th>reaction_4</th>\n",
       "      <th>reaction_5</th>\n",
       "    </tr>\n",
       "  </thead>\n",
       "  <tbody>\n",
       "    <tr>\n",
       "      <th>0</th>\n",
       "      <td>0</td>\n",
       "      <td>3</td>\n",
       "      <td>5</td>\n",
       "      <td>3</td>\n",
       "      <td>5</td>\n",
       "      <td>4</td>\n",
       "      <td>15</td>\n",
       "      <td>25</td>\n",
       "      <td>12</td>\n",
       "      <td>29</td>\n",
       "      <td>20</td>\n",
       "    </tr>\n",
       "    <tr>\n",
       "      <th>1</th>\n",
       "      <td>1</td>\n",
       "      <td>5</td>\n",
       "      <td>5</td>\n",
       "      <td>5</td>\n",
       "      <td>4</td>\n",
       "      <td>5</td>\n",
       "      <td>6</td>\n",
       "      <td>23</td>\n",
       "      <td>29</td>\n",
       "      <td>27</td>\n",
       "      <td>25</td>\n",
       "    </tr>\n",
       "    <tr>\n",
       "      <th>2</th>\n",
       "      <td>2</td>\n",
       "      <td>3</td>\n",
       "      <td>1</td>\n",
       "      <td>3</td>\n",
       "      <td>3</td>\n",
       "      <td>4</td>\n",
       "      <td>7</td>\n",
       "      <td>14</td>\n",
       "      <td>21</td>\n",
       "      <td>23</td>\n",
       "      <td>19</td>\n",
       "    </tr>\n",
       "    <tr>\n",
       "      <th>3</th>\n",
       "      <td>3</td>\n",
       "      <td>3</td>\n",
       "      <td>1</td>\n",
       "      <td>1</td>\n",
       "      <td>3</td>\n",
       "      <td>3</td>\n",
       "      <td>25</td>\n",
       "      <td>15</td>\n",
       "      <td>5</td>\n",
       "      <td>10</td>\n",
       "      <td>16</td>\n",
       "    </tr>\n",
       "    <tr>\n",
       "      <th>4</th>\n",
       "      <td>4</td>\n",
       "      <td>2</td>\n",
       "      <td>2</td>\n",
       "      <td>5</td>\n",
       "      <td>5</td>\n",
       "      <td>1</td>\n",
       "      <td>17</td>\n",
       "      <td>18</td>\n",
       "      <td>2</td>\n",
       "      <td>7</td>\n",
       "      <td>18</td>\n",
       "    </tr>\n",
       "    <tr>\n",
       "      <th>...</th>\n",
       "      <td>...</td>\n",
       "      <td>...</td>\n",
       "      <td>...</td>\n",
       "      <td>...</td>\n",
       "      <td>...</td>\n",
       "      <td>...</td>\n",
       "      <td>...</td>\n",
       "      <td>...</td>\n",
       "      <td>...</td>\n",
       "      <td>...</td>\n",
       "      <td>...</td>\n",
       "    </tr>\n",
       "    <tr>\n",
       "      <th>95</th>\n",
       "      <td>95</td>\n",
       "      <td>2</td>\n",
       "      <td>3</td>\n",
       "      <td>2</td>\n",
       "      <td>3</td>\n",
       "      <td>4</td>\n",
       "      <td>20</td>\n",
       "      <td>21</td>\n",
       "      <td>1</td>\n",
       "      <td>3</td>\n",
       "      <td>3</td>\n",
       "    </tr>\n",
       "    <tr>\n",
       "      <th>96</th>\n",
       "      <td>96</td>\n",
       "      <td>1</td>\n",
       "      <td>5</td>\n",
       "      <td>1</td>\n",
       "      <td>3</td>\n",
       "      <td>4</td>\n",
       "      <td>11</td>\n",
       "      <td>19</td>\n",
       "      <td>29</td>\n",
       "      <td>8</td>\n",
       "      <td>23</td>\n",
       "    </tr>\n",
       "    <tr>\n",
       "      <th>97</th>\n",
       "      <td>97</td>\n",
       "      <td>4</td>\n",
       "      <td>2</td>\n",
       "      <td>4</td>\n",
       "      <td>4</td>\n",
       "      <td>3</td>\n",
       "      <td>23</td>\n",
       "      <td>18</td>\n",
       "      <td>7</td>\n",
       "      <td>9</td>\n",
       "      <td>3</td>\n",
       "    </tr>\n",
       "    <tr>\n",
       "      <th>98</th>\n",
       "      <td>98</td>\n",
       "      <td>3</td>\n",
       "      <td>2</td>\n",
       "      <td>2</td>\n",
       "      <td>3</td>\n",
       "      <td>2</td>\n",
       "      <td>29</td>\n",
       "      <td>7</td>\n",
       "      <td>13</td>\n",
       "      <td>20</td>\n",
       "      <td>7</td>\n",
       "    </tr>\n",
       "    <tr>\n",
       "      <th>99</th>\n",
       "      <td>99</td>\n",
       "      <td>5</td>\n",
       "      <td>4</td>\n",
       "      <td>1</td>\n",
       "      <td>3</td>\n",
       "      <td>3</td>\n",
       "      <td>27</td>\n",
       "      <td>26</td>\n",
       "      <td>1</td>\n",
       "      <td>22</td>\n",
       "      <td>20</td>\n",
       "    </tr>\n",
       "  </tbody>\n",
       "</table>\n",
       "<p>100 rows × 11 columns</p>\n",
       "</div>"
      ],
      "text/plain": [
       "    Informant_Id  answer_1  answer_2  answer_3  answer_4  answer_5  \\\n",
       "0              0         3         5         3         5         4   \n",
       "1              1         5         5         5         4         5   \n",
       "2              2         3         1         3         3         4   \n",
       "3              3         3         1         1         3         3   \n",
       "4              4         2         2         5         5         1   \n",
       "..           ...       ...       ...       ...       ...       ...   \n",
       "95            95         2         3         2         3         4   \n",
       "96            96         1         5         1         3         4   \n",
       "97            97         4         2         4         4         3   \n",
       "98            98         3         2         2         3         2   \n",
       "99            99         5         4         1         3         3   \n",
       "\n",
       "    reaction_1  reaction_2  reaction_3  reaction_4  reaction_5  \n",
       "0           15          25          12          29          20  \n",
       "1            6          23          29          27          25  \n",
       "2            7          14          21          23          19  \n",
       "3           25          15           5          10          16  \n",
       "4           17          18           2           7          18  \n",
       "..         ...         ...         ...         ...         ...  \n",
       "95          20          21           1           3           3  \n",
       "96          11          19          29           8          23  \n",
       "97          23          18           7           9           3  \n",
       "98          29           7          13          20           7  \n",
       "99          27          26           1          22          20  \n",
       "\n",
       "[100 rows x 11 columns]"
      ]
     },
     "execution_count": 16,
     "metadata": {},
     "output_type": "execute_result"
    }
   ],
   "source": [
    "dictionary_1 = {'Informant_Id': [], 'answer_1': [], 'answer_2': [], 'answer_3': [], 'answer_4': [],  'answer_5': [],\n",
    "             'reaction_1': [], 'reaction_2': [], 'reaction_3': [], 'reaction_4': [], 'reaction_5': []}\n",
    "for i in range(100):\n",
    "    Informant_Id = i\n",
    "    answer_1 = random.randint(1, 5)\n",
    "    answer_2 = random.randint(1, 5)\n",
    "    answer_3 = random.randint(1, 5)\n",
    "    answer_4 = random.randint(1, 5)\n",
    "    answer_5 = random.randint(1, 5)\n",
    "    reaction_1 = random.randint(1, 30)\n",
    "    reaction_2 = random.randint(1, 30)\n",
    "    reaction_3 = random.randint(1, 30)\n",
    "    reaction_4 = random.randint(1, 30)\n",
    "    reaction_5 = random.randint(1, 30)\n",
    "    dictionary_1['Informant_Id'] = dictionary_1['Informant_Id'] + [Informant_Id]\n",
    "    dictionary_1['answer_1'] = dictionary_1['answer_1'] + [answer_1]\n",
    "    dictionary_1['answer_2'] = dictionary_1['answer_2'] + [answer_2]\n",
    "    dictionary_1['answer_3'] = dictionary_1['answer_3'] + [answer_3]\n",
    "    dictionary_1['answer_4'] = dictionary_1['answer_4'] + [answer_4]\n",
    "    dictionary_1['answer_5'] = dictionary_1['answer_5'] + [answer_5]\n",
    "    dictionary_1['reaction_1'] = dictionary_1['reaction_1'] + [reaction_1]\n",
    "    dictionary_1['reaction_2'] = dictionary_1['reaction_2'] + [reaction_2]\n",
    "    dictionary_1['reaction_3'] = dictionary_1['reaction_3'] + [reaction_3]\n",
    "    dictionary_1['reaction_4'] = dictionary_1['reaction_4'] + [reaction_4]\n",
    "    dictionary_1['reaction_5'] = dictionary_1['reaction_5'] + [reaction_5]\n",
    "df_1 = pd.DataFrame(dictionary_1)\n",
    "df_1"
   ]
  },
  {
   "cell_type": "markdown",
   "metadata": {},
   "source": [
    "Закину данные датафрейма в бд"
   ]
  },
  {
   "cell_type": "code",
   "execution_count": 17,
   "metadata": {},
   "outputs": [],
   "source": [
    "df_1.to_sql(name='Answers', con=con, if_exists='replace', index=False)\n",
    "con.commit()"
   ]
  },
  {
   "cell_type": "markdown",
   "metadata": {},
   "source": [
    "Я в дб добавлял foreign key для связи таблиц. Однако при перезапуске кода эти данные стирались и приходилось заново вводить ключ. Я не знаю, как это пофиксить (точнее наверное это исправиться, если создать таблицы в питоне и прописать внешний ключ там, но при создании таблиц в sqlite (что требовалось по заданию) это вроде как нельзя сделать), да и никто не знает."
   ]
  },
  {
   "cell_type": "markdown",
   "metadata": {},
   "source": [
    "#### Задание: Cоставьте запрос SELECT с условием к одной таблице. Например, сколько ответов, где испытуемые оценили предложение > 4 по шкале"
   ]
  },
  {
   "cell_type": "code",
   "execution_count": 31,
   "metadata": {},
   "outputs": [
    {
     "name": "stdout",
     "output_type": "stream",
     "text": [
      "20 испытуемых оценили предложение на 4 или выше\n"
     ]
    }
   ],
   "source": [
    "c.execute('SELECT answer_1 FROM Answers WHERE answer_1 > 4')\n",
    "print(len(c.fetchall()), \"испытуемых оценили предложение на 4 или выше\")"
   ]
  },
  {
   "cell_type": "markdown",
   "metadata": {},
   "source": [
    "#### Задание: Cоставьте запрос SELECT к нескольким таблицам, чтобы информация объединялась. Например, сравните, как оценили пример мужчины и женщины (тут нужно использовать JOIN, GROUP BY и avg для среднего)"
   ]
  },
  {
   "cell_type": "markdown",
   "metadata": {},
   "source": [
    "Простой запрос (не по заданию, я его в самом начале случайно сделал), который связывает имя из таблицы informants и первый ответ информанта из таблицы Answers"
   ]
  },
  {
   "cell_type": "code",
   "execution_count": 19,
   "metadata": {},
   "outputs": [
    {
     "name": "stdout",
     "output_type": "stream",
     "text": [
      "[('Маня Путин', 'муж', 3), ('Олег Коробкина', 'муж', 5), ('Олег Зеленский', 'муж', 3), ('Серафима Шайгу', 'муж', 3), ('Маша Орлов', 'муж', 4), ('Вера Обэма', 'муж', 5), ('Серафима Орлов', 'муж', 4), ('Костя Явлинский', 'муж', 5), ('Сережа Коробкина', 'муж', 4), ('Аня Шайгу', 'муж', 4), ('Петя Навальный', 'муж', 3), ('Антон Орлов', 'муж', 1), ('Сережа Янукович', 'муж', 5), ('Серафима Зеленский', 'муж', 3), ('Сережа Собянин', 'муж', 4), ('Маша Шайгу', 'муж', 2), ('Аня Явлинский', 'муж', 4), ('Ахмед Обэма', 'муж', 1), ('Маня Чайка', 'муж', 1), ('Сережа Лужков', 'муж', 3), ('Петя Собянин', 'муж', 5), ('Маша Явлинский', 'муж', 3), ('Сережа Орлов', 'муж', 3), ('Карабас Коробкина', 'муж', 3), ('Костя Шевчук', 'муж', 4), ('Серафима Мединский', 'муж', 1), ('Сережа Чайка', 'муж', 2), ('Костя Обэма', 'муж', 1), ('Галя Зеленский', 'муж', 4), ('Маша Шевчук', 'муж', 3), ('Гера Шайгу', 'муж', 1), ('Ваня Янукович', 'муж', 1), ('Вера Обэма', 'муж', 2), ('Наташа Навальный', 'муж', 1), ('Наташа Шевчук', 'муж', 3), ('Петя Собянин', 'муж', 1), ('Галя Шайгу', 'муж', 5), ('Ваня Медведев', 'муж', 3), ('Галя Коробкина', 'муж', 5), ('Вова Явлинский', 'муж', 3), ('Петя Янукович', 'муж', 4), ('Вася Орлов', 'муж', 5), ('Карабас Собянин', 'муж', 1), ('Ахмед Чайка', 'муж', 4), ('Султан Медведев', 'муж', 3)]\n"
     ]
    }
   ],
   "source": [
    "c.execute('SELECT Name, Gender, answer_1 FROM Answers JOIN informants ON informants.Informant_id = Answers.Informant_Id WHERE Gender = \"муж\"')\n",
    "print(c.fetchall())"
   ]
  },
  {
   "cell_type": "markdown",
   "metadata": {},
   "source": [
    "Запрос по заданию"
   ]
  },
  {
   "cell_type": "code",
   "execution_count": 20,
   "metadata": {},
   "outputs": [
    {
     "name": "stdout",
     "output_type": "stream",
     "text": [
      "[(3.0545454545454547, 'жен'), (3.066666666666667, 'муж')]\n"
     ]
    }
   ],
   "source": [
    "c.execute('SELECT AVG(answer_1), Gender FROM informants JOIN Answers ON informants.Informant_id = Answers.Informant_Id GROUP BY Gender')\n",
    "print(c.fetchall())"
   ]
  },
  {
   "cell_type": "markdown",
   "metadata": {},
   "source": [
    "#### Задание: Попробуйте изменить какую-то строку в базе (UPDATE)\n",
    "За свободу слова!"
   ]
  },
  {
   "cell_type": "code",
   "execution_count": 21,
   "metadata": {},
   "outputs": [],
   "source": [
    "c.execute('UPDATE informants SET Gender = \"тёлка\" WHERE Gender = \"жен\"')\n",
    "con.commit()"
   ]
  },
  {
   "cell_type": "markdown",
   "metadata": {},
   "source": [
    "#### Задание: Достаньте время реакции по одному из вопросов отдельно для мужчин, отдельно для женщин и постройте боксплот для двух групп\n",
    "Достаю время реакции у мужчин"
   ]
  },
  {
   "cell_type": "code",
   "execution_count": 22,
   "metadata": {},
   "outputs": [],
   "source": [
    "c.execute('SELECT Gender, reaction_1 FROM Answers JOIN informants ON informants.Informant_id = Answers.Informant_Id WHERE Gender = \"муж\"')\n",
    "man_reaction = c.fetchall()"
   ]
  },
  {
   "cell_type": "markdown",
   "metadata": {},
   "source": [
    "Достаю время реакции у женщин"
   ]
  },
  {
   "cell_type": "code",
   "execution_count": 23,
   "metadata": {},
   "outputs": [],
   "source": [
    "c.execute('SELECT Gender, reaction_1 FROM Answers JOIN informants ON informants.Informant_id = Answers.Informant_Id WHERE Gender = \"тёлка\"')\n",
    "woman_reaction = c.fetchall()"
   ]
  },
  {
   "cell_type": "markdown",
   "metadata": {},
   "source": [
    "Сделаю словарь с полами и временем их реакций, а потом преобразую это в датафрейм"
   ]
  },
  {
   "cell_type": "code",
   "execution_count": 24,
   "metadata": {},
   "outputs": [
    {
     "name": "stdout",
     "output_type": "stream",
     "text": [
      "{'Gender': ['муж', 'муж', 'муж', 'муж', 'муж', 'муж', 'муж', 'муж', 'муж', 'муж', 'муж', 'муж', 'муж', 'муж', 'муж', 'муж', 'муж', 'муж', 'муж', 'муж', 'муж', 'муж', 'муж', 'муж', 'муж', 'муж', 'муж', 'муж', 'муж', 'муж', 'муж', 'муж', 'муж', 'муж', 'муж', 'муж', 'муж', 'муж', 'муж', 'муж', 'муж', 'муж', 'муж', 'муж', 'муж', 'тёлка', 'тёлка', 'тёлка', 'тёлка', 'тёлка', 'тёлка', 'тёлка', 'тёлка', 'тёлка', 'тёлка', 'тёлка', 'тёлка', 'тёлка', 'тёлка', 'тёлка', 'тёлка', 'тёлка', 'тёлка', 'тёлка', 'тёлка', 'тёлка', 'тёлка', 'тёлка', 'тёлка', 'тёлка', 'тёлка', 'тёлка', 'тёлка', 'тёлка', 'тёлка', 'тёлка', 'тёлка', 'тёлка', 'тёлка', 'тёлка', 'тёлка', 'тёлка', 'тёлка', 'тёлка', 'тёлка', 'тёлка', 'тёлка', 'тёлка', 'тёлка', 'тёлка', 'тёлка', 'тёлка', 'тёлка', 'тёлка', 'тёлка', 'тёлка', 'тёлка', 'тёлка', 'тёлка', 'тёлка'], 'Reaction': [15, 6, 7, 9, 11, 17, 4, 9, 15, 20, 14, 23, 3, 22, 20, 16, 13, 28, 27, 26, 18, 30, 11, 29, 18, 22, 25, 7, 28, 17, 3, 6, 14, 3, 12, 22, 17, 13, 25, 25, 8, 2, 11, 23, 29, 25, 17, 12, 4, 16, 12, 16, 16, 24, 7, 23, 21, 29, 15, 21, 5, 17, 5, 24, 10, 2, 4, 27, 19, 8, 24, 9, 19, 11, 5, 24, 26, 11, 15, 22, 11, 9, 24, 28, 23, 28, 5, 17, 8, 14, 10, 22, 16, 15, 18, 12, 1, 30, 20, 27]}\n"
     ]
    }
   ],
   "source": [
    "g_reaction = {'Gender': [], 'Reaction': []}\n",
    "for i in man_reaction:\n",
    "    g_reaction['Gender'] = g_reaction['Gender'] + [i[0]]\n",
    "    g_reaction['Reaction'] = g_reaction['Reaction'] + [i[1]]\n",
    "for i in woman_reaction:\n",
    "    g_reaction['Gender'] = g_reaction['Gender'] + [i[0]]\n",
    "    g_reaction['Reaction'] = g_reaction['Reaction'] + [i[1]]\n",
    "print(g_reaction)"
   ]
  },
  {
   "cell_type": "code",
   "execution_count": 25,
   "metadata": {},
   "outputs": [
    {
     "data": {
      "text/html": [
       "<div>\n",
       "<style scoped>\n",
       "    .dataframe tbody tr th:only-of-type {\n",
       "        vertical-align: middle;\n",
       "    }\n",
       "\n",
       "    .dataframe tbody tr th {\n",
       "        vertical-align: top;\n",
       "    }\n",
       "\n",
       "    .dataframe thead th {\n",
       "        text-align: right;\n",
       "    }\n",
       "</style>\n",
       "<table border=\"1\" class=\"dataframe\">\n",
       "  <thead>\n",
       "    <tr style=\"text-align: right;\">\n",
       "      <th></th>\n",
       "      <th>Gender</th>\n",
       "      <th>Reaction</th>\n",
       "    </tr>\n",
       "  </thead>\n",
       "  <tbody>\n",
       "    <tr>\n",
       "      <th>0</th>\n",
       "      <td>муж</td>\n",
       "      <td>15</td>\n",
       "    </tr>\n",
       "    <tr>\n",
       "      <th>1</th>\n",
       "      <td>муж</td>\n",
       "      <td>6</td>\n",
       "    </tr>\n",
       "    <tr>\n",
       "      <th>2</th>\n",
       "      <td>муж</td>\n",
       "      <td>7</td>\n",
       "    </tr>\n",
       "    <tr>\n",
       "      <th>3</th>\n",
       "      <td>муж</td>\n",
       "      <td>9</td>\n",
       "    </tr>\n",
       "    <tr>\n",
       "      <th>4</th>\n",
       "      <td>муж</td>\n",
       "      <td>11</td>\n",
       "    </tr>\n",
       "    <tr>\n",
       "      <th>...</th>\n",
       "      <td>...</td>\n",
       "      <td>...</td>\n",
       "    </tr>\n",
       "    <tr>\n",
       "      <th>95</th>\n",
       "      <td>тёлка</td>\n",
       "      <td>12</td>\n",
       "    </tr>\n",
       "    <tr>\n",
       "      <th>96</th>\n",
       "      <td>тёлка</td>\n",
       "      <td>1</td>\n",
       "    </tr>\n",
       "    <tr>\n",
       "      <th>97</th>\n",
       "      <td>тёлка</td>\n",
       "      <td>30</td>\n",
       "    </tr>\n",
       "    <tr>\n",
       "      <th>98</th>\n",
       "      <td>тёлка</td>\n",
       "      <td>20</td>\n",
       "    </tr>\n",
       "    <tr>\n",
       "      <th>99</th>\n",
       "      <td>тёлка</td>\n",
       "      <td>27</td>\n",
       "    </tr>\n",
       "  </tbody>\n",
       "</table>\n",
       "<p>100 rows × 2 columns</p>\n",
       "</div>"
      ],
      "text/plain": [
       "   Gender  Reaction\n",
       "0     муж        15\n",
       "1     муж         6\n",
       "2     муж         7\n",
       "3     муж         9\n",
       "4     муж        11\n",
       "..    ...       ...\n",
       "95  тёлка        12\n",
       "96  тёлка         1\n",
       "97  тёлка        30\n",
       "98  тёлка        20\n",
       "99  тёлка        27\n",
       "\n",
       "[100 rows x 2 columns]"
      ]
     },
     "execution_count": 25,
     "metadata": {},
     "output_type": "execute_result"
    }
   ],
   "source": [
    "df_g = pd.DataFrame(g_reaction)\n",
    "df_g"
   ]
  },
  {
   "cell_type": "markdown",
   "metadata": {},
   "source": [
    "И, наконец, красивенький боксплот"
   ]
  },
  {
   "cell_type": "code",
   "execution_count": 26,
   "metadata": {},
   "outputs": [
    {
     "data": {
      "image/png": "[encoded data removed]",
      "text/plain": [
       "<Figure size 720x432 with 1 Axes>"
      ]
     },
     "metadata": {
      "needs_background": "light"
     },
     "output_type": "display_data"
    }
   ],
   "source": [
    "plt.figure(figsize=(10, 6))\n",
    "sns.boxplot(x=\"Gender\", y=\"Reaction\", data=df_g)\n",
    "plt.ylim((0, 35))\n",
    "plt.title('Время реакции на answer_1 в зависимости от пола')\n",
    "plt.ylabel('Время реакции')\n",
    "plt.xlabel('Пол');"
   ]
  }
 ],
 "metadata": {
  "kernelspec": {
   "display_name": "Python 3",
   "language": "python",
   "name": "python3"
  },
  "language_info": {
   "codemirror_mode": {
    "name": "ipython",
    "version": 3
   },
   "file_extension": ".py",
   "mimetype": "text/x-python",
   "name": "python",
   "nbconvert_exporter": "python",
   "pygments_lexer": "ipython3",
   "version": "3.7.4"
  }
 },
 "nbformat": 4,
 "nbformat_minor": 2
}
