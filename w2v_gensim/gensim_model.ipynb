{
 "cells": [
  {
   "cell_type": "markdown",
   "metadata": {},
   "source": [
    "### Арцишевский Антон, дз 3"
   ]
  },
  {
   "cell_type": "code",
   "execution_count": 17,
   "metadata": {},
   "outputs": [],
   "source": [
    "import re\n",
    "import gensim\n",
    "import logging\n",
    "import nltk.data\n",
    "import pandas as pd\n",
    "import urllib.request\n",
    "from bs4 import BeautifulSoup\n",
    "from nltk.corpus import stopwords\n",
    "from gensim.models import word2vec\n",
    "from string import punctuation\n",
    "import warnings\n",
    "warnings.filterwarnings('ignore')"
   ]
  },
  {
   "cell_type": "code",
   "execution_count": 18,
   "metadata": {},
   "outputs": [],
   "source": [
    "logging.basicConfig(format='%(asctime)s : %(levelname)s : %(message)s', level=logging.INFO)"
   ]
  },
  {
   "cell_type": "code",
   "execution_count": 19,
   "metadata": {},
   "outputs": [],
   "source": [
    "from pymystem3 import Mystem\n",
    "m = Mystem(mystem_bin=\"C:\\mystem.exe\")"
   ]
  },
  {
   "cell_type": "markdown",
   "metadata": {},
   "source": [
    "### Задание 1\n",
    "Чищу и парсю текст"
   ]
  },
  {
   "cell_type": "code",
   "execution_count": 20,
   "metadata": {},
   "outputs": [],
   "source": [
    "PUNCT_CHARS = \"\"\"!\"#'$%&\\-()*+,./:;<=>?@[\\]^_`{|}~«»—\"\"\"\n",
    "PUNCT_CHARS_WITH_SPACES = (' -', '- ', '', '\\n', '  ')"
   ]
  },
  {
   "cell_type": "code",
   "execution_count": 21,
   "metadata": {},
   "outputs": [],
   "source": [
    "from nltk.tokenize import sent_tokenize\n",
    "TEXT = []\n",
    "with open('td.txt', encoding='utf-8') as text:\n",
    "    text = text.read()\n",
    "text = [word.lower().strip(punctuation) for word in sent_tokenize(text)]\n",
    "text = [word for word in text if word != '']\n",
    "for line in text:\n",
    "    for char in PUNCT_CHARS:\n",
    "        line = line.replace(char, '')\n",
    "    for char in PUNCT_CHARS_WITH_SPACES:\n",
    "        line = line.replace(char, '')\n",
    "    for char in line:\n",
    "        char = char.lower()\n",
    "    TEXT.append(line)\n",
    "with open('td_lem.txt', 'w', encoding='utf-8') as f:\n",
    "    for line in TEXT:\n",
    "        f.write(line)\n",
    "        f.write('\\n')"
   ]
  },
  {
   "cell_type": "markdown",
   "metadata": {},
   "source": [
    "### Задание 2\n",
    "Создаю модель по примеру семинара"
   ]
  },
  {
   "cell_type": "code",
   "execution_count": 22,
   "metadata": {},
   "outputs": [],
   "source": [
    "f ='td_lem.txt'\n",
    "data = gensim.models.word2vec.LineSentence(f)"
   ]
  },
  {
   "cell_type": "markdown",
   "metadata": {},
   "source": [
    "Наконец-то многопоточность"
   ]
  },
  {
   "cell_type": "code",
   "execution_count": 23,
   "metadata": {
    "collapsed": true
   },
   "outputs": [
    {
     "name": "stderr",
     "output_type": "stream",
     "text": [
      "2021-07-26 00:58:31,054 : INFO : collecting all words and their counts\n",
      "2021-07-26 00:58:31,065 : INFO : PROGRESS: at sentence #0, processed 0 words, keeping 0 word types\n",
      "2021-07-26 00:58:31,128 : INFO : PROGRESS: at sentence #10000, processed 88691 words, keeping 28220 word types\n",
      "2021-07-26 00:58:31,194 : INFO : collected 47617 word types from a corpus of 183857 raw words and 19496 sentences\n",
      "2021-07-26 00:58:31,195 : INFO : Loading a fresh vocabulary\n",
      "2021-07-26 00:58:31,244 : INFO : effective_min_count=5 retains 5156 unique words (10% of original 47617, drops 42461)\n",
      "2021-07-26 00:58:31,244 : INFO : effective_min_count=5 leaves 123161 word corpus (66% of original 183857, drops 60696)\n",
      "2021-07-26 00:58:31,262 : INFO : deleting the raw counts dictionary of 47617 items\n",
      "2021-07-26 00:58:31,266 : INFO : sample=0.001 downsamples 34 most-common words\n",
      "2021-07-26 00:58:31,266 : INFO : downsampling leaves estimated 99181 word corpus (80.5% of prior 123161)\n",
      "2021-07-26 00:58:31,280 : INFO : estimated required memory for 5156 words and 300 dimensions: 14952400 bytes\n",
      "2021-07-26 00:58:31,280 : INFO : resetting layer weights\n",
      "2021-07-26 00:58:32,280 : INFO : training model with 8 workers on 5156 vocabulary and 300 features, using sg=0 hs=0 sample=0.001 negative=5 window=5\n",
      "2021-07-26 00:58:32,450 : INFO : worker thread finished; awaiting finish of 7 more threads\n",
      "2021-07-26 00:58:32,452 : INFO : worker thread finished; awaiting finish of 6 more threads\n",
      "2021-07-26 00:58:32,452 : INFO : worker thread finished; awaiting finish of 5 more threads\n",
      "2021-07-26 00:58:32,453 : INFO : worker thread finished; awaiting finish of 4 more threads\n",
      "2021-07-26 00:58:32,453 : INFO : worker thread finished; awaiting finish of 3 more threads\n",
      "2021-07-26 00:58:32,453 : INFO : worker thread finished; awaiting finish of 2 more threads\n",
      "2021-07-26 00:58:32,455 : INFO : worker thread finished; awaiting finish of 1 more threads\n",
      "2021-07-26 00:58:32,463 : INFO : worker thread finished; awaiting finish of 0 more threads\n",
      "2021-07-26 00:58:32,464 : INFO : EPOCH - 1 : training on 183857 raw words (99292 effective words) took 0.2s, 620400 effective words/s\n",
      "2021-07-26 00:58:32,605 : INFO : worker thread finished; awaiting finish of 7 more threads\n",
      "2021-07-26 00:58:32,607 : INFO : worker thread finished; awaiting finish of 6 more threads\n",
      "2021-07-26 00:58:32,608 : INFO : worker thread finished; awaiting finish of 5 more threads\n",
      "2021-07-26 00:58:32,608 : INFO : worker thread finished; awaiting finish of 4 more threads\n",
      "2021-07-26 00:58:32,609 : INFO : worker thread finished; awaiting finish of 3 more threads\n",
      "2021-07-26 00:58:32,610 : INFO : worker thread finished; awaiting finish of 2 more threads\n",
      "2021-07-26 00:58:32,612 : INFO : worker thread finished; awaiting finish of 1 more threads\n",
      "2021-07-26 00:58:32,615 : INFO : worker thread finished; awaiting finish of 0 more threads\n",
      "2021-07-26 00:58:32,615 : INFO : EPOCH - 2 : training on 183857 raw words (99106 effective words) took 0.1s, 669566 effective words/s\n",
      "2021-07-26 00:58:32,761 : INFO : worker thread finished; awaiting finish of 7 more threads\n",
      "2021-07-26 00:58:32,762 : INFO : worker thread finished; awaiting finish of 6 more threads\n",
      "2021-07-26 00:58:32,763 : INFO : worker thread finished; awaiting finish of 5 more threads\n",
      "2021-07-26 00:58:32,764 : INFO : worker thread finished; awaiting finish of 4 more threads\n",
      "2021-07-26 00:58:32,765 : INFO : worker thread finished; awaiting finish of 3 more threads\n",
      "2021-07-26 00:58:32,766 : INFO : worker thread finished; awaiting finish of 2 more threads\n",
      "2021-07-26 00:58:32,767 : INFO : worker thread finished; awaiting finish of 1 more threads\n",
      "2021-07-26 00:58:32,771 : INFO : worker thread finished; awaiting finish of 0 more threads\n",
      "2021-07-26 00:58:32,772 : INFO : EPOCH - 3 : training on 183857 raw words (98993 effective words) took 0.2s, 648543 effective words/s\n",
      "2021-07-26 00:58:32,923 : INFO : worker thread finished; awaiting finish of 7 more threads\n",
      "2021-07-26 00:58:32,925 : INFO : worker thread finished; awaiting finish of 6 more threads\n",
      "2021-07-26 00:58:32,925 : INFO : worker thread finished; awaiting finish of 5 more threads\n",
      "2021-07-26 00:58:32,926 : INFO : worker thread finished; awaiting finish of 4 more threads\n",
      "2021-07-26 00:58:32,926 : INFO : worker thread finished; awaiting finish of 3 more threads\n",
      "2021-07-26 00:58:32,927 : INFO : worker thread finished; awaiting finish of 2 more threads\n",
      "2021-07-26 00:58:32,928 : INFO : worker thread finished; awaiting finish of 1 more threads\n",
      "2021-07-26 00:58:32,932 : INFO : worker thread finished; awaiting finish of 0 more threads\n",
      "2021-07-26 00:58:32,932 : INFO : EPOCH - 4 : training on 183857 raw words (99189 effective words) took 0.2s, 640650 effective words/s\n",
      "2021-07-26 00:58:33,232 : INFO : worker thread finished; awaiting finish of 7 more threads\n",
      "2021-07-26 00:58:33,233 : INFO : worker thread finished; awaiting finish of 6 more threads\n",
      "2021-07-26 00:58:33,234 : INFO : worker thread finished; awaiting finish of 5 more threads\n",
      "2021-07-26 00:58:33,235 : INFO : worker thread finished; awaiting finish of 4 more threads\n",
      "2021-07-26 00:58:33,235 : INFO : worker thread finished; awaiting finish of 3 more threads\n",
      "2021-07-26 00:58:33,235 : INFO : worker thread finished; awaiting finish of 2 more threads\n",
      "2021-07-26 00:58:33,237 : INFO : worker thread finished; awaiting finish of 1 more threads\n",
      "2021-07-26 00:58:33,242 : INFO : worker thread finished; awaiting finish of 0 more threads\n",
      "2021-07-26 00:58:33,243 : INFO : EPOCH - 5 : training on 183857 raw words (99193 effective words) took 0.3s, 323228 effective words/s\n",
      "2021-07-26 00:58:33,396 : INFO : worker thread finished; awaiting finish of 7 more threads\n",
      "2021-07-26 00:58:33,397 : INFO : worker thread finished; awaiting finish of 6 more threads\n",
      "2021-07-26 00:58:33,397 : INFO : worker thread finished; awaiting finish of 5 more threads\n",
      "2021-07-26 00:58:33,397 : INFO : worker thread finished; awaiting finish of 4 more threads\n",
      "2021-07-26 00:58:33,398 : INFO : worker thread finished; awaiting finish of 3 more threads\n",
      "2021-07-26 00:58:33,398 : INFO : worker thread finished; awaiting finish of 2 more threads\n",
      "2021-07-26 00:58:33,400 : INFO : worker thread finished; awaiting finish of 1 more threads\n",
      "2021-07-26 00:58:33,405 : INFO : worker thread finished; awaiting finish of 0 more threads\n",
      "2021-07-26 00:58:33,406 : INFO : EPOCH - 6 : training on 183857 raw words (99214 effective words) took 0.2s, 623803 effective words/s\n",
      "2021-07-26 00:58:33,547 : INFO : worker thread finished; awaiting finish of 7 more threads\n",
      "2021-07-26 00:58:33,548 : INFO : worker thread finished; awaiting finish of 6 more threads\n",
      "2021-07-26 00:58:33,549 : INFO : worker thread finished; awaiting finish of 5 more threads\n",
      "2021-07-26 00:58:33,549 : INFO : worker thread finished; awaiting finish of 4 more threads\n",
      "2021-07-26 00:58:33,550 : INFO : worker thread finished; awaiting finish of 3 more threads\n",
      "2021-07-26 00:58:33,550 : INFO : worker thread finished; awaiting finish of 2 more threads\n",
      "2021-07-26 00:58:33,552 : INFO : worker thread finished; awaiting finish of 1 more threads\n",
      "2021-07-26 00:58:33,555 : INFO : worker thread finished; awaiting finish of 0 more threads\n",
      "2021-07-26 00:58:33,556 : INFO : EPOCH - 7 : training on 183857 raw words (99135 effective words) took 0.1s, 679181 effective words/s\n",
      "2021-07-26 00:58:33,707 : INFO : worker thread finished; awaiting finish of 7 more threads\n",
      "2021-07-26 00:58:33,708 : INFO : worker thread finished; awaiting finish of 6 more threads\n",
      "2021-07-26 00:58:33,708 : INFO : worker thread finished; awaiting finish of 5 more threads\n",
      "2021-07-26 00:58:33,709 : INFO : worker thread finished; awaiting finish of 4 more threads\n",
      "2021-07-26 00:58:33,709 : INFO : worker thread finished; awaiting finish of 3 more threads\n",
      "2021-07-26 00:58:33,710 : INFO : worker thread finished; awaiting finish of 2 more threads\n",
      "2021-07-26 00:58:33,713 : INFO : worker thread finished; awaiting finish of 1 more threads\n",
      "2021-07-26 00:58:33,715 : INFO : worker thread finished; awaiting finish of 0 more threads\n",
      "2021-07-26 00:58:33,716 : INFO : EPOCH - 8 : training on 183857 raw words (99275 effective words) took 0.2s, 635183 effective words/s\n",
      "2021-07-26 00:58:33,872 : INFO : worker thread finished; awaiting finish of 7 more threads\n"
     ]
    },
    {
     "name": "stderr",
     "output_type": "stream",
     "text": [
      "2021-07-26 00:58:33,873 : INFO : worker thread finished; awaiting finish of 6 more threads\n",
      "2021-07-26 00:58:33,874 : INFO : worker thread finished; awaiting finish of 5 more threads\n",
      "2021-07-26 00:58:33,874 : INFO : worker thread finished; awaiting finish of 4 more threads\n",
      "2021-07-26 00:58:33,875 : INFO : worker thread finished; awaiting finish of 3 more threads\n",
      "2021-07-26 00:58:33,876 : INFO : worker thread finished; awaiting finish of 2 more threads\n",
      "2021-07-26 00:58:33,878 : INFO : worker thread finished; awaiting finish of 1 more threads\n",
      "2021-07-26 00:58:33,881 : INFO : worker thread finished; awaiting finish of 0 more threads\n",
      "2021-07-26 00:58:33,881 : INFO : EPOCH - 9 : training on 183857 raw words (99258 effective words) took 0.2s, 611832 effective words/s\n",
      "2021-07-26 00:58:34,028 : INFO : worker thread finished; awaiting finish of 7 more threads\n",
      "2021-07-26 00:58:34,028 : INFO : worker thread finished; awaiting finish of 6 more threads\n",
      "2021-07-26 00:58:34,029 : INFO : worker thread finished; awaiting finish of 5 more threads\n",
      "2021-07-26 00:58:34,029 : INFO : worker thread finished; awaiting finish of 4 more threads\n",
      "2021-07-26 00:58:34,030 : INFO : worker thread finished; awaiting finish of 3 more threads\n",
      "2021-07-26 00:58:34,030 : INFO : worker thread finished; awaiting finish of 2 more threads\n",
      "2021-07-26 00:58:34,033 : INFO : worker thread finished; awaiting finish of 1 more threads\n",
      "2021-07-26 00:58:34,034 : INFO : worker thread finished; awaiting finish of 0 more threads\n",
      "2021-07-26 00:58:34,035 : INFO : EPOCH - 10 : training on 183857 raw words (99276 effective words) took 0.1s, 662119 effective words/s\n",
      "2021-07-26 00:58:34,221 : INFO : worker thread finished; awaiting finish of 7 more threads\n",
      "2021-07-26 00:58:34,223 : INFO : worker thread finished; awaiting finish of 6 more threads\n",
      "2021-07-26 00:58:34,223 : INFO : worker thread finished; awaiting finish of 5 more threads\n",
      "2021-07-26 00:58:34,224 : INFO : worker thread finished; awaiting finish of 4 more threads\n",
      "2021-07-26 00:58:34,225 : INFO : worker thread finished; awaiting finish of 3 more threads\n",
      "2021-07-26 00:58:34,225 : INFO : worker thread finished; awaiting finish of 2 more threads\n",
      "2021-07-26 00:58:34,227 : INFO : worker thread finished; awaiting finish of 1 more threads\n",
      "2021-07-26 00:58:34,230 : INFO : worker thread finished; awaiting finish of 0 more threads\n",
      "2021-07-26 00:58:34,230 : INFO : EPOCH - 11 : training on 183857 raw words (99269 effective words) took 0.2s, 517666 effective words/s\n",
      "2021-07-26 00:58:34,372 : INFO : worker thread finished; awaiting finish of 7 more threads\n",
      "2021-07-26 00:58:34,373 : INFO : worker thread finished; awaiting finish of 6 more threads\n",
      "2021-07-26 00:58:34,374 : INFO : worker thread finished; awaiting finish of 5 more threads\n",
      "2021-07-26 00:58:34,375 : INFO : worker thread finished; awaiting finish of 4 more threads\n",
      "2021-07-26 00:58:34,376 : INFO : worker thread finished; awaiting finish of 3 more threads\n",
      "2021-07-26 00:58:34,377 : INFO : worker thread finished; awaiting finish of 2 more threads\n",
      "2021-07-26 00:58:34,378 : INFO : worker thread finished; awaiting finish of 1 more threads\n",
      "2021-07-26 00:58:34,381 : INFO : worker thread finished; awaiting finish of 0 more threads\n",
      "2021-07-26 00:58:34,382 : INFO : EPOCH - 12 : training on 183857 raw words (99370 effective words) took 0.1s, 673828 effective words/s\n",
      "2021-07-26 00:58:34,523 : INFO : worker thread finished; awaiting finish of 7 more threads\n",
      "2021-07-26 00:58:34,523 : INFO : worker thread finished; awaiting finish of 6 more threads\n",
      "2021-07-26 00:58:34,524 : INFO : worker thread finished; awaiting finish of 5 more threads\n",
      "2021-07-26 00:58:34,525 : INFO : worker thread finished; awaiting finish of 4 more threads\n",
      "2021-07-26 00:58:34,525 : INFO : worker thread finished; awaiting finish of 3 more threads\n",
      "2021-07-26 00:58:34,526 : INFO : worker thread finished; awaiting finish of 2 more threads\n",
      "2021-07-26 00:58:34,528 : INFO : worker thread finished; awaiting finish of 1 more threads\n",
      "2021-07-26 00:58:34,533 : INFO : worker thread finished; awaiting finish of 0 more threads\n",
      "2021-07-26 00:58:34,534 : INFO : EPOCH - 13 : training on 183857 raw words (99192 effective words) took 0.1s, 669330 effective words/s\n",
      "2021-07-26 00:58:34,679 : INFO : worker thread finished; awaiting finish of 7 more threads\n",
      "2021-07-26 00:58:34,679 : INFO : worker thread finished; awaiting finish of 6 more threads\n",
      "2021-07-26 00:58:34,680 : INFO : worker thread finished; awaiting finish of 5 more threads\n",
      "2021-07-26 00:58:34,680 : INFO : worker thread finished; awaiting finish of 4 more threads\n",
      "2021-07-26 00:58:34,681 : INFO : worker thread finished; awaiting finish of 3 more threads\n",
      "2021-07-26 00:58:34,682 : INFO : worker thread finished; awaiting finish of 2 more threads\n",
      "2021-07-26 00:58:34,683 : INFO : worker thread finished; awaiting finish of 1 more threads\n",
      "2021-07-26 00:58:34,686 : INFO : worker thread finished; awaiting finish of 0 more threads\n",
      "2021-07-26 00:58:34,687 : INFO : EPOCH - 14 : training on 183857 raw words (99299 effective words) took 0.1s, 663674 effective words/s\n",
      "2021-07-26 00:58:34,854 : INFO : worker thread finished; awaiting finish of 7 more threads\n",
      "2021-07-26 00:58:34,855 : INFO : worker thread finished; awaiting finish of 6 more threads\n",
      "2021-07-26 00:58:34,856 : INFO : worker thread finished; awaiting finish of 5 more threads\n",
      "2021-07-26 00:58:34,857 : INFO : worker thread finished; awaiting finish of 4 more threads\n",
      "2021-07-26 00:58:34,858 : INFO : worker thread finished; awaiting finish of 3 more threads\n",
      "2021-07-26 00:58:34,859 : INFO : worker thread finished; awaiting finish of 2 more threads\n",
      "2021-07-26 00:58:34,861 : INFO : worker thread finished; awaiting finish of 1 more threads\n",
      "2021-07-26 00:58:34,862 : INFO : worker thread finished; awaiting finish of 0 more threads\n",
      "2021-07-26 00:58:34,863 : INFO : EPOCH - 15 : training on 183857 raw words (99285 effective words) took 0.2s, 576139 effective words/s\n",
      "2021-07-26 00:58:34,995 : INFO : worker thread finished; awaiting finish of 7 more threads\n",
      "2021-07-26 00:58:34,996 : INFO : worker thread finished; awaiting finish of 6 more threads\n",
      "2021-07-26 00:58:34,997 : INFO : worker thread finished; awaiting finish of 5 more threads\n",
      "2021-07-26 00:58:34,997 : INFO : worker thread finished; awaiting finish of 4 more threads\n",
      "2021-07-26 00:58:34,998 : INFO : worker thread finished; awaiting finish of 3 more threads\n",
      "2021-07-26 00:58:34,998 : INFO : worker thread finished; awaiting finish of 2 more threads\n",
      "2021-07-26 00:58:35,000 : INFO : worker thread finished; awaiting finish of 1 more threads\n",
      "2021-07-26 00:58:35,003 : INFO : worker thread finished; awaiting finish of 0 more threads\n",
      "2021-07-26 00:58:35,004 : INFO : EPOCH - 16 : training on 183857 raw words (99115 effective words) took 0.1s, 717024 effective words/s\n",
      "2021-07-26 00:58:35,176 : INFO : worker thread finished; awaiting finish of 7 more threads\n",
      "2021-07-26 00:58:35,178 : INFO : worker thread finished; awaiting finish of 6 more threads\n",
      "2021-07-26 00:58:35,179 : INFO : worker thread finished; awaiting finish of 5 more threads\n",
      "2021-07-26 00:58:35,189 : INFO : worker thread finished; awaiting finish of 4 more threads\n",
      "2021-07-26 00:58:35,190 : INFO : worker thread finished; awaiting finish of 3 more threads\n",
      "2021-07-26 00:58:35,194 : INFO : worker thread finished; awaiting finish of 2 more threads\n",
      "2021-07-26 00:58:35,196 : INFO : worker thread finished; awaiting finish of 1 more threads\n",
      "2021-07-26 00:58:35,196 : INFO : worker thread finished; awaiting finish of 0 more threads\n",
      "2021-07-26 00:58:35,196 : INFO : EPOCH - 17 : training on 183857 raw words (98921 effective words) took 0.2s, 522330 effective words/s\n",
      "2021-07-26 00:58:35,335 : INFO : worker thread finished; awaiting finish of 7 more threads\n",
      "2021-07-26 00:58:35,336 : INFO : worker thread finished; awaiting finish of 6 more threads\n",
      "2021-07-26 00:58:35,337 : INFO : worker thread finished; awaiting finish of 5 more threads\n",
      "2021-07-26 00:58:35,337 : INFO : worker thread finished; awaiting finish of 4 more threads\n",
      "2021-07-26 00:58:35,338 : INFO : worker thread finished; awaiting finish of 3 more threads\n",
      "2021-07-26 00:58:35,338 : INFO : worker thread finished; awaiting finish of 2 more threads\n"
     ]
    },
    {
     "name": "stderr",
     "output_type": "stream",
     "text": [
      "2021-07-26 00:58:35,340 : INFO : worker thread finished; awaiting finish of 1 more threads\n",
      "2021-07-26 00:58:35,344 : INFO : worker thread finished; awaiting finish of 0 more threads\n",
      "2021-07-26 00:58:35,344 : INFO : EPOCH - 18 : training on 183857 raw words (99183 effective words) took 0.1s, 690022 effective words/s\n",
      "2021-07-26 00:58:35,483 : INFO : worker thread finished; awaiting finish of 7 more threads\n",
      "2021-07-26 00:58:35,484 : INFO : worker thread finished; awaiting finish of 6 more threads\n",
      "2021-07-26 00:58:35,484 : INFO : worker thread finished; awaiting finish of 5 more threads\n",
      "2021-07-26 00:58:35,485 : INFO : worker thread finished; awaiting finish of 4 more threads\n",
      "2021-07-26 00:58:35,485 : INFO : worker thread finished; awaiting finish of 3 more threads\n",
      "2021-07-26 00:58:35,486 : INFO : worker thread finished; awaiting finish of 2 more threads\n",
      "2021-07-26 00:58:35,490 : INFO : worker thread finished; awaiting finish of 1 more threads\n",
      "2021-07-26 00:58:35,491 : INFO : worker thread finished; awaiting finish of 0 more threads\n",
      "2021-07-26 00:58:35,491 : INFO : EPOCH - 19 : training on 183857 raw words (99180 effective words) took 0.1s, 691158 effective words/s\n",
      "2021-07-26 00:58:35,629 : INFO : worker thread finished; awaiting finish of 7 more threads\n",
      "2021-07-26 00:58:35,630 : INFO : worker thread finished; awaiting finish of 6 more threads\n",
      "2021-07-26 00:58:35,630 : INFO : worker thread finished; awaiting finish of 5 more threads\n",
      "2021-07-26 00:58:35,631 : INFO : worker thread finished; awaiting finish of 4 more threads\n",
      "2021-07-26 00:58:35,631 : INFO : worker thread finished; awaiting finish of 3 more threads\n",
      "2021-07-26 00:58:35,632 : INFO : worker thread finished; awaiting finish of 2 more threads\n",
      "2021-07-26 00:58:35,634 : INFO : worker thread finished; awaiting finish of 1 more threads\n",
      "2021-07-26 00:58:35,636 : INFO : worker thread finished; awaiting finish of 0 more threads\n",
      "2021-07-26 00:58:35,637 : INFO : EPOCH - 20 : training on 183857 raw words (99155 effective words) took 0.1s, 699060 effective words/s\n",
      "2021-07-26 00:58:35,775 : INFO : worker thread finished; awaiting finish of 7 more threads\n",
      "2021-07-26 00:58:35,776 : INFO : worker thread finished; awaiting finish of 6 more threads\n",
      "2021-07-26 00:58:35,777 : INFO : worker thread finished; awaiting finish of 5 more threads\n",
      "2021-07-26 00:58:35,777 : INFO : worker thread finished; awaiting finish of 4 more threads\n",
      "2021-07-26 00:58:35,778 : INFO : worker thread finished; awaiting finish of 3 more threads\n",
      "2021-07-26 00:58:35,778 : INFO : worker thread finished; awaiting finish of 2 more threads\n",
      "2021-07-26 00:58:35,780 : INFO : worker thread finished; awaiting finish of 1 more threads\n",
      "2021-07-26 00:58:35,784 : INFO : worker thread finished; awaiting finish of 0 more threads\n",
      "2021-07-26 00:58:35,785 : INFO : EPOCH - 21 : training on 183857 raw words (99139 effective words) took 0.1s, 687515 effective words/s\n",
      "2021-07-26 00:58:35,925 : INFO : worker thread finished; awaiting finish of 7 more threads\n",
      "2021-07-26 00:58:35,926 : INFO : worker thread finished; awaiting finish of 6 more threads\n",
      "2021-07-26 00:58:35,927 : INFO : worker thread finished; awaiting finish of 5 more threads\n",
      "2021-07-26 00:58:35,927 : INFO : worker thread finished; awaiting finish of 4 more threads\n",
      "2021-07-26 00:58:35,928 : INFO : worker thread finished; awaiting finish of 3 more threads\n",
      "2021-07-26 00:58:35,928 : INFO : worker thread finished; awaiting finish of 2 more threads\n",
      "2021-07-26 00:58:35,931 : INFO : worker thread finished; awaiting finish of 1 more threads\n",
      "2021-07-26 00:58:35,933 : INFO : worker thread finished; awaiting finish of 0 more threads\n",
      "2021-07-26 00:58:35,933 : INFO : EPOCH - 22 : training on 183857 raw words (99302 effective words) took 0.1s, 685279 effective words/s\n",
      "2021-07-26 00:58:36,103 : INFO : worker thread finished; awaiting finish of 7 more threads\n",
      "2021-07-26 00:58:36,105 : INFO : worker thread finished; awaiting finish of 6 more threads\n",
      "2021-07-26 00:58:36,105 : INFO : worker thread finished; awaiting finish of 5 more threads\n",
      "2021-07-26 00:58:36,106 : INFO : worker thread finished; awaiting finish of 4 more threads\n",
      "2021-07-26 00:58:36,106 : INFO : worker thread finished; awaiting finish of 3 more threads\n",
      "2021-07-26 00:58:36,107 : INFO : worker thread finished; awaiting finish of 2 more threads\n",
      "2021-07-26 00:58:36,109 : INFO : worker thread finished; awaiting finish of 1 more threads\n",
      "2021-07-26 00:58:36,111 : INFO : worker thread finished; awaiting finish of 0 more threads\n",
      "2021-07-26 00:58:36,112 : INFO : EPOCH - 23 : training on 183857 raw words (99144 effective words) took 0.2s, 564771 effective words/s\n",
      "2021-07-26 00:58:36,248 : INFO : worker thread finished; awaiting finish of 7 more threads\n",
      "2021-07-26 00:58:36,249 : INFO : worker thread finished; awaiting finish of 6 more threads\n",
      "2021-07-26 00:58:36,249 : INFO : worker thread finished; awaiting finish of 5 more threads\n",
      "2021-07-26 00:58:36,250 : INFO : worker thread finished; awaiting finish of 4 more threads\n",
      "2021-07-26 00:58:36,250 : INFO : worker thread finished; awaiting finish of 3 more threads\n",
      "2021-07-26 00:58:36,251 : INFO : worker thread finished; awaiting finish of 2 more threads\n",
      "2021-07-26 00:58:36,252 : INFO : worker thread finished; awaiting finish of 1 more threads\n",
      "2021-07-26 00:58:36,255 : INFO : worker thread finished; awaiting finish of 0 more threads\n",
      "2021-07-26 00:58:36,255 : INFO : EPOCH - 24 : training on 183857 raw words (99289 effective words) took 0.1s, 710769 effective words/s\n",
      "2021-07-26 00:58:36,395 : INFO : worker thread finished; awaiting finish of 7 more threads\n",
      "2021-07-26 00:58:36,396 : INFO : worker thread finished; awaiting finish of 6 more threads\n",
      "2021-07-26 00:58:36,396 : INFO : worker thread finished; awaiting finish of 5 more threads\n",
      "2021-07-26 00:58:36,397 : INFO : worker thread finished; awaiting finish of 4 more threads\n",
      "2021-07-26 00:58:36,398 : INFO : worker thread finished; awaiting finish of 3 more threads\n",
      "2021-07-26 00:58:36,398 : INFO : worker thread finished; awaiting finish of 2 more threads\n",
      "2021-07-26 00:58:36,400 : INFO : worker thread finished; awaiting finish of 1 more threads\n",
      "2021-07-26 00:58:36,407 : INFO : worker thread finished; awaiting finish of 0 more threads\n",
      "2021-07-26 00:58:36,407 : INFO : EPOCH - 25 : training on 183857 raw words (99271 effective words) took 0.1s, 669455 effective words/s\n",
      "2021-07-26 00:58:36,544 : INFO : worker thread finished; awaiting finish of 7 more threads\n",
      "2021-07-26 00:58:36,545 : INFO : worker thread finished; awaiting finish of 6 more threads\n",
      "2021-07-26 00:58:36,545 : INFO : worker thread finished; awaiting finish of 5 more threads\n",
      "2021-07-26 00:58:36,546 : INFO : worker thread finished; awaiting finish of 4 more threads\n",
      "2021-07-26 00:58:36,547 : INFO : worker thread finished; awaiting finish of 3 more threads\n",
      "2021-07-26 00:58:36,547 : INFO : worker thread finished; awaiting finish of 2 more threads\n",
      "2021-07-26 00:58:36,548 : INFO : worker thread finished; awaiting finish of 1 more threads\n",
      "2021-07-26 00:58:36,555 : INFO : worker thread finished; awaiting finish of 0 more threads\n",
      "2021-07-26 00:58:36,555 : INFO : EPOCH - 26 : training on 183857 raw words (99348 effective words) took 0.1s, 686477 effective words/s\n",
      "2021-07-26 00:58:36,689 : INFO : worker thread finished; awaiting finish of 7 more threads\n",
      "2021-07-26 00:58:36,690 : INFO : worker thread finished; awaiting finish of 6 more threads\n",
      "2021-07-26 00:58:36,690 : INFO : worker thread finished; awaiting finish of 5 more threads\n",
      "2021-07-26 00:58:36,691 : INFO : worker thread finished; awaiting finish of 4 more threads\n",
      "2021-07-26 00:58:36,692 : INFO : worker thread finished; awaiting finish of 3 more threads\n",
      "2021-07-26 00:58:36,692 : INFO : worker thread finished; awaiting finish of 2 more threads\n",
      "2021-07-26 00:58:36,695 : INFO : worker thread finished; awaiting finish of 1 more threads\n",
      "2021-07-26 00:58:36,698 : INFO : worker thread finished; awaiting finish of 0 more threads\n",
      "2021-07-26 00:58:36,699 : INFO : EPOCH - 27 : training on 183857 raw words (99206 effective words) took 0.1s, 707679 effective words/s\n",
      "2021-07-26 00:58:36,835 : INFO : worker thread finished; awaiting finish of 7 more threads\n",
      "2021-07-26 00:58:36,835 : INFO : worker thread finished; awaiting finish of 6 more threads\n"
     ]
    },
    {
     "name": "stderr",
     "output_type": "stream",
     "text": [
      "2021-07-26 00:58:36,836 : INFO : worker thread finished; awaiting finish of 5 more threads\n",
      "2021-07-26 00:58:36,837 : INFO : worker thread finished; awaiting finish of 4 more threads\n",
      "2021-07-26 00:58:36,838 : INFO : worker thread finished; awaiting finish of 3 more threads\n",
      "2021-07-26 00:58:36,838 : INFO : worker thread finished; awaiting finish of 2 more threads\n",
      "2021-07-26 00:58:36,840 : INFO : worker thread finished; awaiting finish of 1 more threads\n",
      "2021-07-26 00:58:36,843 : INFO : worker thread finished; awaiting finish of 0 more threads\n",
      "2021-07-26 00:58:36,843 : INFO : EPOCH - 28 : training on 183857 raw words (99073 effective words) took 0.1s, 700127 effective words/s\n",
      "2021-07-26 00:58:37,021 : INFO : worker thread finished; awaiting finish of 7 more threads\n",
      "2021-07-26 00:58:37,022 : INFO : worker thread finished; awaiting finish of 6 more threads\n",
      "2021-07-26 00:58:37,023 : INFO : worker thread finished; awaiting finish of 5 more threads\n",
      "2021-07-26 00:58:37,024 : INFO : worker thread finished; awaiting finish of 4 more threads\n",
      "2021-07-26 00:58:37,024 : INFO : worker thread finished; awaiting finish of 3 more threads\n",
      "2021-07-26 00:58:37,025 : INFO : worker thread finished; awaiting finish of 2 more threads\n",
      "2021-07-26 00:58:37,027 : INFO : worker thread finished; awaiting finish of 1 more threads\n",
      "2021-07-26 00:58:37,030 : INFO : worker thread finished; awaiting finish of 0 more threads\n",
      "2021-07-26 00:58:37,030 : INFO : EPOCH - 29 : training on 183857 raw words (98984 effective words) took 0.2s, 541016 effective words/s\n",
      "2021-07-26 00:58:37,170 : INFO : worker thread finished; awaiting finish of 7 more threads\n",
      "2021-07-26 00:58:37,170 : INFO : worker thread finished; awaiting finish of 6 more threads\n",
      "2021-07-26 00:58:37,171 : INFO : worker thread finished; awaiting finish of 5 more threads\n",
      "2021-07-26 00:58:37,172 : INFO : worker thread finished; awaiting finish of 4 more threads\n",
      "2021-07-26 00:58:37,173 : INFO : worker thread finished; awaiting finish of 3 more threads\n",
      "2021-07-26 00:58:37,173 : INFO : worker thread finished; awaiting finish of 2 more threads\n",
      "2021-07-26 00:58:37,175 : INFO : worker thread finished; awaiting finish of 1 more threads\n",
      "2021-07-26 00:58:37,180 : INFO : worker thread finished; awaiting finish of 0 more threads\n",
      "2021-07-26 00:58:37,181 : INFO : EPOCH - 30 : training on 183857 raw words (99301 effective words) took 0.1s, 676636 effective words/s\n",
      "2021-07-26 00:58:37,325 : INFO : worker thread finished; awaiting finish of 7 more threads\n",
      "2021-07-26 00:58:37,327 : INFO : worker thread finished; awaiting finish of 6 more threads\n",
      "2021-07-26 00:58:37,327 : INFO : worker thread finished; awaiting finish of 5 more threads\n",
      "2021-07-26 00:58:37,328 : INFO : worker thread finished; awaiting finish of 4 more threads\n",
      "2021-07-26 00:58:37,328 : INFO : worker thread finished; awaiting finish of 3 more threads\n",
      "2021-07-26 00:58:37,329 : INFO : worker thread finished; awaiting finish of 2 more threads\n",
      "2021-07-26 00:58:37,330 : INFO : worker thread finished; awaiting finish of 1 more threads\n",
      "2021-07-26 00:58:37,334 : INFO : worker thread finished; awaiting finish of 0 more threads\n",
      "2021-07-26 00:58:37,334 : INFO : EPOCH - 31 : training on 183857 raw words (99162 effective words) took 0.2s, 659060 effective words/s\n",
      "2021-07-26 00:58:37,469 : INFO : worker thread finished; awaiting finish of 7 more threads\n",
      "2021-07-26 00:58:37,470 : INFO : worker thread finished; awaiting finish of 6 more threads\n",
      "2021-07-26 00:58:37,470 : INFO : worker thread finished; awaiting finish of 5 more threads\n",
      "2021-07-26 00:58:37,471 : INFO : worker thread finished; awaiting finish of 4 more threads\n",
      "2021-07-26 00:58:37,471 : INFO : worker thread finished; awaiting finish of 3 more threads\n",
      "2021-07-26 00:58:37,475 : INFO : worker thread finished; awaiting finish of 2 more threads\n",
      "2021-07-26 00:58:37,475 : INFO : worker thread finished; awaiting finish of 1 more threads\n",
      "2021-07-26 00:58:37,477 : INFO : worker thread finished; awaiting finish of 0 more threads\n",
      "2021-07-26 00:58:37,478 : INFO : EPOCH - 32 : training on 183857 raw words (99286 effective words) took 0.1s, 708694 effective words/s\n",
      "2021-07-26 00:58:37,635 : INFO : worker thread finished; awaiting finish of 7 more threads\n",
      "2021-07-26 00:58:37,637 : INFO : worker thread finished; awaiting finish of 6 more threads\n",
      "2021-07-26 00:58:37,637 : INFO : worker thread finished; awaiting finish of 5 more threads\n",
      "2021-07-26 00:58:37,638 : INFO : worker thread finished; awaiting finish of 4 more threads\n",
      "2021-07-26 00:58:37,638 : INFO : worker thread finished; awaiting finish of 3 more threads\n",
      "2021-07-26 00:58:37,639 : INFO : worker thread finished; awaiting finish of 2 more threads\n",
      "2021-07-26 00:58:37,641 : INFO : worker thread finished; awaiting finish of 1 more threads\n",
      "2021-07-26 00:58:37,645 : INFO : worker thread finished; awaiting finish of 0 more threads\n",
      "2021-07-26 00:58:37,645 : INFO : EPOCH - 33 : training on 183857 raw words (99102 effective words) took 0.2s, 603869 effective words/s\n",
      "2021-07-26 00:58:37,787 : INFO : worker thread finished; awaiting finish of 7 more threads\n",
      "2021-07-26 00:58:37,789 : INFO : worker thread finished; awaiting finish of 6 more threads\n",
      "2021-07-26 00:58:37,789 : INFO : worker thread finished; awaiting finish of 5 more threads\n",
      "2021-07-26 00:58:37,790 : INFO : worker thread finished; awaiting finish of 4 more threads\n",
      "2021-07-26 00:58:37,791 : INFO : worker thread finished; awaiting finish of 3 more threads\n",
      "2021-07-26 00:58:37,792 : INFO : worker thread finished; awaiting finish of 2 more threads\n",
      "2021-07-26 00:58:37,794 : INFO : worker thread finished; awaiting finish of 1 more threads\n",
      "2021-07-26 00:58:37,799 : INFO : worker thread finished; awaiting finish of 0 more threads\n",
      "2021-07-26 00:58:37,800 : INFO : EPOCH - 34 : training on 183857 raw words (99228 effective words) took 0.2s, 654579 effective words/s\n",
      "2021-07-26 00:58:37,973 : INFO : worker thread finished; awaiting finish of 7 more threads\n",
      "2021-07-26 00:58:37,975 : INFO : worker thread finished; awaiting finish of 6 more threads\n",
      "2021-07-26 00:58:37,976 : INFO : worker thread finished; awaiting finish of 5 more threads\n",
      "2021-07-26 00:58:37,977 : INFO : worker thread finished; awaiting finish of 4 more threads\n",
      "2021-07-26 00:58:37,977 : INFO : worker thread finished; awaiting finish of 3 more threads\n",
      "2021-07-26 00:58:37,978 : INFO : worker thread finished; awaiting finish of 2 more threads\n",
      "2021-07-26 00:58:37,979 : INFO : worker thread finished; awaiting finish of 1 more threads\n",
      "2021-07-26 00:58:37,982 : INFO : worker thread finished; awaiting finish of 0 more threads\n",
      "2021-07-26 00:58:37,983 : INFO : EPOCH - 35 : training on 183857 raw words (99088 effective words) took 0.2s, 551306 effective words/s\n",
      "2021-07-26 00:58:38,128 : INFO : worker thread finished; awaiting finish of 7 more threads\n",
      "2021-07-26 00:58:38,129 : INFO : worker thread finished; awaiting finish of 6 more threads\n",
      "2021-07-26 00:58:38,129 : INFO : worker thread finished; awaiting finish of 5 more threads\n",
      "2021-07-26 00:58:38,130 : INFO : worker thread finished; awaiting finish of 4 more threads\n",
      "2021-07-26 00:58:38,130 : INFO : worker thread finished; awaiting finish of 3 more threads\n",
      "2021-07-26 00:58:38,131 : INFO : worker thread finished; awaiting finish of 2 more threads\n",
      "2021-07-26 00:58:38,133 : INFO : worker thread finished; awaiting finish of 1 more threads\n",
      "2021-07-26 00:58:38,138 : INFO : worker thread finished; awaiting finish of 0 more threads\n",
      "2021-07-26 00:58:38,139 : INFO : EPOCH - 36 : training on 183857 raw words (99045 effective words) took 0.2s, 651261 effective words/s\n",
      "2021-07-26 00:58:38,279 : INFO : worker thread finished; awaiting finish of 7 more threads\n",
      "2021-07-26 00:58:38,280 : INFO : worker thread finished; awaiting finish of 6 more threads\n",
      "2021-07-26 00:58:38,280 : INFO : worker thread finished; awaiting finish of 5 more threads\n",
      "2021-07-26 00:58:38,281 : INFO : worker thread finished; awaiting finish of 4 more threads\n",
      "2021-07-26 00:58:38,282 : INFO : worker thread finished; awaiting finish of 3 more threads\n",
      "2021-07-26 00:58:38,282 : INFO : worker thread finished; awaiting finish of 2 more threads\n",
      "2021-07-26 00:58:38,285 : INFO : worker thread finished; awaiting finish of 1 more threads\n"
     ]
    },
    {
     "name": "stderr",
     "output_type": "stream",
     "text": [
      "2021-07-26 00:58:38,286 : INFO : worker thread finished; awaiting finish of 0 more threads\n",
      "2021-07-26 00:58:38,287 : INFO : EPOCH - 37 : training on 183857 raw words (99236 effective words) took 0.1s, 689514 effective words/s\n",
      "2021-07-26 00:58:38,461 : INFO : worker thread finished; awaiting finish of 7 more threads\n",
      "2021-07-26 00:58:38,464 : INFO : worker thread finished; awaiting finish of 6 more threads\n",
      "2021-07-26 00:58:38,464 : INFO : worker thread finished; awaiting finish of 5 more threads\n",
      "2021-07-26 00:58:38,465 : INFO : worker thread finished; awaiting finish of 4 more threads\n",
      "2021-07-26 00:58:38,466 : INFO : worker thread finished; awaiting finish of 3 more threads\n",
      "2021-07-26 00:58:38,466 : INFO : worker thread finished; awaiting finish of 2 more threads\n",
      "2021-07-26 00:58:38,469 : INFO : worker thread finished; awaiting finish of 1 more threads\n",
      "2021-07-26 00:58:38,471 : INFO : worker thread finished; awaiting finish of 0 more threads\n",
      "2021-07-26 00:58:38,472 : INFO : EPOCH - 38 : training on 183857 raw words (99176 effective words) took 0.2s, 545943 effective words/s\n",
      "2021-07-26 00:58:38,622 : INFO : worker thread finished; awaiting finish of 7 more threads\n",
      "2021-07-26 00:58:38,623 : INFO : worker thread finished; awaiting finish of 6 more threads\n",
      "2021-07-26 00:58:38,623 : INFO : worker thread finished; awaiting finish of 5 more threads\n",
      "2021-07-26 00:58:38,624 : INFO : worker thread finished; awaiting finish of 4 more threads\n",
      "2021-07-26 00:58:38,625 : INFO : worker thread finished; awaiting finish of 3 more threads\n",
      "2021-07-26 00:58:38,625 : INFO : worker thread finished; awaiting finish of 2 more threads\n",
      "2021-07-26 00:58:38,628 : INFO : worker thread finished; awaiting finish of 1 more threads\n",
      "2021-07-26 00:58:38,630 : INFO : worker thread finished; awaiting finish of 0 more threads\n",
      "2021-07-26 00:58:38,631 : INFO : EPOCH - 39 : training on 183857 raw words (99126 effective words) took 0.2s, 643647 effective words/s\n",
      "2021-07-26 00:58:38,824 : INFO : worker thread finished; awaiting finish of 7 more threads\n",
      "2021-07-26 00:58:38,826 : INFO : worker thread finished; awaiting finish of 6 more threads\n",
      "2021-07-26 00:58:38,826 : INFO : worker thread finished; awaiting finish of 5 more threads\n",
      "2021-07-26 00:58:38,827 : INFO : worker thread finished; awaiting finish of 4 more threads\n",
      "2021-07-26 00:58:38,827 : INFO : worker thread finished; awaiting finish of 3 more threads\n",
      "2021-07-26 00:58:38,827 : INFO : worker thread finished; awaiting finish of 2 more threads\n",
      "2021-07-26 00:58:38,830 : INFO : worker thread finished; awaiting finish of 1 more threads\n",
      "2021-07-26 00:58:38,833 : INFO : worker thread finished; awaiting finish of 0 more threads\n",
      "2021-07-26 00:58:38,833 : INFO : EPOCH - 40 : training on 183857 raw words (99224 effective words) took 0.2s, 498690 effective words/s\n",
      "2021-07-26 00:58:38,972 : INFO : worker thread finished; awaiting finish of 7 more threads\n",
      "2021-07-26 00:58:38,973 : INFO : worker thread finished; awaiting finish of 6 more threads\n",
      "2021-07-26 00:58:38,974 : INFO : worker thread finished; awaiting finish of 5 more threads\n",
      "2021-07-26 00:58:38,974 : INFO : worker thread finished; awaiting finish of 4 more threads\n",
      "2021-07-26 00:58:38,975 : INFO : worker thread finished; awaiting finish of 3 more threads\n",
      "2021-07-26 00:58:38,975 : INFO : worker thread finished; awaiting finish of 2 more threads\n",
      "2021-07-26 00:58:38,978 : INFO : worker thread finished; awaiting finish of 1 more threads\n",
      "2021-07-26 00:58:38,981 : INFO : worker thread finished; awaiting finish of 0 more threads\n",
      "2021-07-26 00:58:38,982 : INFO : EPOCH - 41 : training on 183857 raw words (99222 effective words) took 0.1s, 684221 effective words/s\n",
      "2021-07-26 00:58:39,129 : INFO : worker thread finished; awaiting finish of 7 more threads\n",
      "2021-07-26 00:58:39,130 : INFO : worker thread finished; awaiting finish of 6 more threads\n",
      "2021-07-26 00:58:39,131 : INFO : worker thread finished; awaiting finish of 5 more threads\n",
      "2021-07-26 00:58:39,131 : INFO : worker thread finished; awaiting finish of 4 more threads\n",
      "2021-07-26 00:58:39,132 : INFO : worker thread finished; awaiting finish of 3 more threads\n",
      "2021-07-26 00:58:39,132 : INFO : worker thread finished; awaiting finish of 2 more threads\n",
      "2021-07-26 00:58:39,134 : INFO : worker thread finished; awaiting finish of 1 more threads\n",
      "2021-07-26 00:58:39,137 : INFO : worker thread finished; awaiting finish of 0 more threads\n",
      "2021-07-26 00:58:39,137 : INFO : EPOCH - 42 : training on 183857 raw words (99176 effective words) took 0.2s, 650853 effective words/s\n",
      "2021-07-26 00:58:39,292 : INFO : worker thread finished; awaiting finish of 7 more threads\n",
      "2021-07-26 00:58:39,293 : INFO : worker thread finished; awaiting finish of 6 more threads\n",
      "2021-07-26 00:58:39,294 : INFO : worker thread finished; awaiting finish of 5 more threads\n",
      "2021-07-26 00:58:39,294 : INFO : worker thread finished; awaiting finish of 4 more threads\n",
      "2021-07-26 00:58:39,295 : INFO : worker thread finished; awaiting finish of 3 more threads\n",
      "2021-07-26 00:58:39,295 : INFO : worker thread finished; awaiting finish of 2 more threads\n",
      "2021-07-26 00:58:39,297 : INFO : worker thread finished; awaiting finish of 1 more threads\n",
      "2021-07-26 00:58:39,300 : INFO : worker thread finished; awaiting finish of 0 more threads\n",
      "2021-07-26 00:58:39,300 : INFO : EPOCH - 43 : training on 183857 raw words (99356 effective words) took 0.2s, 622556 effective words/s\n",
      "2021-07-26 00:58:39,438 : INFO : worker thread finished; awaiting finish of 7 more threads\n",
      "2021-07-26 00:58:39,439 : INFO : worker thread finished; awaiting finish of 6 more threads\n",
      "2021-07-26 00:58:39,440 : INFO : worker thread finished; awaiting finish of 5 more threads\n",
      "2021-07-26 00:58:39,440 : INFO : worker thread finished; awaiting finish of 4 more threads\n",
      "2021-07-26 00:58:39,441 : INFO : worker thread finished; awaiting finish of 3 more threads\n",
      "2021-07-26 00:58:39,442 : INFO : worker thread finished; awaiting finish of 2 more threads\n",
      "2021-07-26 00:58:39,445 : INFO : worker thread finished; awaiting finish of 1 more threads\n",
      "2021-07-26 00:58:39,446 : INFO : worker thread finished; awaiting finish of 0 more threads\n",
      "2021-07-26 00:58:39,447 : INFO : EPOCH - 44 : training on 183857 raw words (99236 effective words) took 0.1s, 694864 effective words/s\n",
      "2021-07-26 00:58:39,594 : INFO : worker thread finished; awaiting finish of 7 more threads\n",
      "2021-07-26 00:58:39,594 : INFO : worker thread finished; awaiting finish of 6 more threads\n",
      "2021-07-26 00:58:39,595 : INFO : worker thread finished; awaiting finish of 5 more threads\n",
      "2021-07-26 00:58:39,595 : INFO : worker thread finished; awaiting finish of 4 more threads\n",
      "2021-07-26 00:58:39,596 : INFO : worker thread finished; awaiting finish of 3 more threads\n",
      "2021-07-26 00:58:39,597 : INFO : worker thread finished; awaiting finish of 2 more threads\n",
      "2021-07-26 00:58:39,598 : INFO : worker thread finished; awaiting finish of 1 more threads\n",
      "2021-07-26 00:58:39,601 : INFO : worker thread finished; awaiting finish of 0 more threads\n",
      "2021-07-26 00:58:39,602 : INFO : EPOCH - 45 : training on 183857 raw words (99125 effective words) took 0.2s, 651640 effective words/s\n",
      "2021-07-26 00:58:39,789 : INFO : worker thread finished; awaiting finish of 7 more threads\n",
      "2021-07-26 00:58:39,790 : INFO : worker thread finished; awaiting finish of 6 more threads\n",
      "2021-07-26 00:58:39,791 : INFO : worker thread finished; awaiting finish of 5 more threads\n",
      "2021-07-26 00:58:39,791 : INFO : worker thread finished; awaiting finish of 4 more threads\n",
      "2021-07-26 00:58:39,792 : INFO : worker thread finished; awaiting finish of 3 more threads\n",
      "2021-07-26 00:58:39,793 : INFO : worker thread finished; awaiting finish of 2 more threads\n",
      "2021-07-26 00:58:39,795 : INFO : worker thread finished; awaiting finish of 1 more threads\n",
      "2021-07-26 00:58:39,798 : INFO : worker thread finished; awaiting finish of 0 more threads\n",
      "2021-07-26 00:58:39,799 : INFO : EPOCH - 46 : training on 183857 raw words (99183 effective words) took 0.2s, 514551 effective words/s\n",
      "2021-07-26 00:58:39,938 : INFO : worker thread finished; awaiting finish of 7 more threads\n",
      "2021-07-26 00:58:39,939 : INFO : worker thread finished; awaiting finish of 6 more threads\n",
      "2021-07-26 00:58:39,940 : INFO : worker thread finished; awaiting finish of 5 more threads\n"
     ]
    },
    {
     "name": "stderr",
     "output_type": "stream",
     "text": [
      "2021-07-26 00:58:39,941 : INFO : worker thread finished; awaiting finish of 4 more threads\n",
      "2021-07-26 00:58:39,941 : INFO : worker thread finished; awaiting finish of 3 more threads\n",
      "2021-07-26 00:58:39,942 : INFO : worker thread finished; awaiting finish of 2 more threads\n",
      "2021-07-26 00:58:39,945 : INFO : worker thread finished; awaiting finish of 1 more threads\n",
      "2021-07-26 00:58:39,948 : INFO : worker thread finished; awaiting finish of 0 more threads\n",
      "2021-07-26 00:58:39,949 : INFO : EPOCH - 47 : training on 183857 raw words (99140 effective words) took 0.1s, 678646 effective words/s\n",
      "2021-07-26 00:58:40,100 : INFO : worker thread finished; awaiting finish of 7 more threads\n",
      "2021-07-26 00:58:40,101 : INFO : worker thread finished; awaiting finish of 6 more threads\n",
      "2021-07-26 00:58:40,102 : INFO : worker thread finished; awaiting finish of 5 more threads\n",
      "2021-07-26 00:58:40,103 : INFO : worker thread finished; awaiting finish of 4 more threads\n",
      "2021-07-26 00:58:40,103 : INFO : worker thread finished; awaiting finish of 3 more threads\n",
      "2021-07-26 00:58:40,104 : INFO : worker thread finished; awaiting finish of 2 more threads\n",
      "2021-07-26 00:58:40,107 : INFO : worker thread finished; awaiting finish of 1 more threads\n",
      "2021-07-26 00:58:40,109 : INFO : worker thread finished; awaiting finish of 0 more threads\n",
      "2021-07-26 00:58:40,110 : INFO : EPOCH - 48 : training on 183857 raw words (99315 effective words) took 0.2s, 630900 effective words/s\n",
      "2021-07-26 00:58:40,262 : INFO : worker thread finished; awaiting finish of 7 more threads\n",
      "2021-07-26 00:58:40,262 : INFO : worker thread finished; awaiting finish of 6 more threads\n",
      "2021-07-26 00:58:40,263 : INFO : worker thread finished; awaiting finish of 5 more threads\n",
      "2021-07-26 00:58:40,264 : INFO : worker thread finished; awaiting finish of 4 more threads\n",
      "2021-07-26 00:58:40,264 : INFO : worker thread finished; awaiting finish of 3 more threads\n",
      "2021-07-26 00:58:40,265 : INFO : worker thread finished; awaiting finish of 2 more threads\n",
      "2021-07-26 00:58:40,267 : INFO : worker thread finished; awaiting finish of 1 more threads\n",
      "2021-07-26 00:58:40,271 : INFO : worker thread finished; awaiting finish of 0 more threads\n",
      "2021-07-26 00:58:40,271 : INFO : EPOCH - 49 : training on 183857 raw words (99299 effective words) took 0.2s, 626754 effective words/s\n",
      "2021-07-26 00:58:40,419 : INFO : worker thread finished; awaiting finish of 7 more threads\n",
      "2021-07-26 00:58:40,421 : INFO : worker thread finished; awaiting finish of 6 more threads\n",
      "2021-07-26 00:58:40,422 : INFO : worker thread finished; awaiting finish of 5 more threads\n",
      "2021-07-26 00:58:40,422 : INFO : worker thread finished; awaiting finish of 4 more threads\n",
      "2021-07-26 00:58:40,423 : INFO : worker thread finished; awaiting finish of 3 more threads\n",
      "2021-07-26 00:58:40,424 : INFO : worker thread finished; awaiting finish of 2 more threads\n",
      "2021-07-26 00:58:40,425 : INFO : worker thread finished; awaiting finish of 1 more threads\n",
      "2021-07-26 00:58:40,428 : INFO : worker thread finished; awaiting finish of 0 more threads\n",
      "2021-07-26 00:58:40,429 : INFO : EPOCH - 50 : training on 183857 raw words (99321 effective words) took 0.2s, 647765 effective words/s\n",
      "2021-07-26 00:58:40,430 : INFO : training on a 9192850 raw words (4960003 effective words) took 8.1s, 608670 effective words/s\n"
     ]
    },
    {
     "name": "stdout",
     "output_type": "stream",
     "text": [
      "Wall time: 9.4 s\n"
     ]
    }
   ],
   "source": [
    "%time model_td = gensim.models.Word2Vec(data, size=300, window=5, min_count=5, iter = 50, workers = 8)"
   ]
  },
  {
   "cell_type": "code",
   "execution_count": 24,
   "metadata": {},
   "outputs": [
    {
     "name": "stderr",
     "output_type": "stream",
     "text": [
      "2021-07-26 00:58:40,442 : INFO : precomputing L2-norms of word weight vectors\n",
      "2021-07-26 00:58:40,452 : INFO : storing 5156x300 projection weights into td.bin\n"
     ]
    },
    {
     "name": "stdout",
     "output_type": "stream",
     "text": [
      "Saving model...\n"
     ]
    }
   ],
   "source": [
    "model_td.init_sims(replace=True)\n",
    "model_path = \"td.bin\"\n",
    "\n",
    "print(\"Saving model...\")\n",
    "model_td.wv.save_word2vec_format(model_path, binary=True)"
   ]
  },
  {
   "cell_type": "code",
   "execution_count": 25,
   "metadata": {},
   "outputs": [
    {
     "name": "stdout",
     "output_type": "stream",
     "text": [
      "Кол-во слов в модели: 5156\n"
     ]
    }
   ],
   "source": [
    "print('Кол-во слов в модели:',len(model_td.wv.vocab))"
   ]
  },
  {
   "cell_type": "markdown",
   "metadata": {},
   "source": [
    "### Задание 3\n",
    "Найду близжайшие 5 слов (для хорошо/плохо сделал дважды, ибо не понятно, что имеется в виду)"
   ]
  },
  {
   "cell_type": "code",
   "execution_count": 27,
   "metadata": {},
   "outputs": [
    {
     "data": {
      "text/plain": [
       "[('коровы', 0.7552879452705383),\n",
       " ('шо', 0.736083984375),\n",
       " ('яра', 0.7334080934524536),\n",
       " ('церковной', 0.6927953958511353),\n",
       " ('дети', 0.6803689002990723)]"
      ]
     },
     "execution_count": 27,
     "metadata": {},
     "output_type": "execute_result"
    }
   ],
   "source": [
    "model_td.wv.most_similar(\"гуси\", topn=5)"
   ]
  },
  {
   "cell_type": "code",
   "execution_count": 28,
   "metadata": {},
   "outputs": [
    {
     "data": {
      "text/plain": [
       "[('армия', 0.6798394322395325),\n",
       " ('добром', 0.6735732555389404),\n",
       " ('большевики', 0.6727602481842041),\n",
       " ('родине', 0.6659685969352722),\n",
       " ('суровой', 0.6548858880996704)]"
      ]
     },
     "execution_count": 28,
     "metadata": {},
     "output_type": "execute_result"
    }
   ],
   "source": [
    "model_td.wv.most_similar(\"любовь\", topn=5)"
   ]
  },
  {
   "cell_type": "code",
   "execution_count": 29,
   "metadata": {},
   "outputs": [
    {
     "data": {
      "text/plain": [
       "[('тягуче', 0.6877679228782654),\n",
       " ('россыпь', 0.6831684112548828),\n",
       " ('оборвав', 0.6669889092445374),\n",
       " ('сенцы', 0.6502254605293274),\n",
       " ('конюшню', 0.6470028162002563)]"
      ]
     },
     "execution_count": 29,
     "metadata": {},
     "output_type": "execute_result"
    }
   ],
   "source": [
    "model_td.wv.most_similar(\"прокофий\", topn=5)"
   ]
  },
  {
   "cell_type": "code",
   "execution_count": 30,
   "metadata": {},
   "outputs": [
    {
     "data": {
      "text/plain": [
       "[('хорош', 0.7230625152587891),\n",
       " ('ага', 0.7208964824676514),\n",
       " ('мол', 0.7200640439987183),\n",
       " ('спаси', 0.700061559677124),\n",
       " ('христос', 0.6958115100860596)]"
      ]
     },
     "execution_count": 30,
     "metadata": {},
     "output_type": "execute_result"
    }
   ],
   "source": [
    "model_td.wv.most_similar(\"хорошо\", topn=5)"
   ]
  },
  {
   "cell_type": "code",
   "execution_count": 31,
   "metadata": {},
   "outputs": [
    {
     "data": {
      "text/plain": [
       "[('гутарить', 0.6833817362785339),\n",
       " ('говори', 0.6742918491363525),\n",
       " ('ль', 0.6636675596237183),\n",
       " ('скажи', 0.6518785953521729),\n",
       " ('понимаю', 0.6515131592750549)]"
      ]
     },
     "execution_count": 31,
     "metadata": {},
     "output_type": "execute_result"
    }
   ],
   "source": [
    "model_td.wv.most_similar(\"плохо\", topn=5)"
   ]
  },
  {
   "cell_type": "markdown",
   "metadata": {},
   "source": [
    "Поскольку исходных слов не было, пришлось поменять"
   ]
  },
  {
   "cell_type": "code",
   "execution_count": 32,
   "metadata": {},
   "outputs": [
    {
     "data": {
      "text/plain": [
       "[('рослый', 0.6774926781654358),\n",
       " ('погонами', 0.6725444197654724),\n",
       " ('плотный', 0.6459163427352905),\n",
       " ('подал', 0.6425633430480957),\n",
       " ('бородатый', 0.6277729272842407)]"
      ]
     },
     "execution_count": 32,
     "metadata": {},
     "output_type": "execute_result"
    }
   ],
   "source": [
    "model_td.wv.most_similar([\"большой\", \"маленький\"], topn=5)"
   ]
  },
  {
   "cell_type": "markdown",
   "metadata": {},
   "source": [
    "Найду семантическую пропорцию (если это то)"
   ]
  },
  {
   "cell_type": "code",
   "execution_count": 33,
   "metadata": {},
   "outputs": [
    {
     "data": {
      "text/plain": [
       "[('дочь', 0.6292859315872192)]"
      ]
     },
     "execution_count": 33,
     "metadata": {},
     "output_type": "execute_result"
    }
   ],
   "source": [
    "model_td.wv.most_similar(positive=[\"жизнь\", \"любовь\"], negative=[\"гуси\"], topn=1)"
   ]
  },
  {
   "cell_type": "markdown",
   "metadata": {},
   "source": [
    "Найду лишнее слово"
   ]
  },
  {
   "cell_type": "code",
   "execution_count": 34,
   "metadata": {},
   "outputs": [
    {
     "data": {
      "text/plain": [
       "'крест'"
      ]
     },
     "execution_count": 34,
     "metadata": {},
     "output_type": "execute_result"
    }
   ],
   "source": [
    "model_td.wv.doesnt_match(\"гуси коровы крест улыбка\".split())"
   ]
  },
  {
   "cell_type": "markdown",
   "metadata": {},
   "source": [
    "### Задание 4"
   ]
  },
  {
   "cell_type": "code",
   "execution_count": 36,
   "metadata": {},
   "outputs": [],
   "source": [
    "from sklearn.decomposition import PCA\n",
    "import matplotlib.pyplot as plt\n",
    "%matplotlib inline\n",
    "\n",
    "words = ['григорий', 'аксинья', 'степан', 'наталья']\n",
    "X = model_td[words]"
   ]
  },
  {
   "cell_type": "code",
   "execution_count": 37,
   "metadata": {},
   "outputs": [],
   "source": [
    "pca = PCA(n_components=2)\n",
    "coords = pca.fit_transform(X)"
   ]
  },
  {
   "cell_type": "code",
   "execution_count": 38,
   "metadata": {},
   "outputs": [
    {
     "data": {
      "image/png": "[encoded data removed]",
      "text/plain": [
       "<Figure size 432x288 with 1 Axes>"
      ]
     },
     "metadata": {
      "needs_background": "light"
     },
     "output_type": "display_data"
    }
   ],
   "source": [
    "plt.scatter(coords[:, 0], coords[:, 1], color='red')\n",
    "plt.title('Words')\n",
    "\n",
    "for i, word in enumerate(words):\n",
    "    plt.annotate(word, xy=(coords[i, 0], coords[i, 1]))\n",
    "plt.show()"
   ]
  },
  {
   "cell_type": "markdown",
   "metadata": {},
   "source": [
    "### Задание 5\n",
    "Тут всё просто. Беру рандомное предложение, спличу по словам. Дальше меняю каждое слово на самое похожее и запихиваю в новый список."
   ]
  },
  {
   "cell_type": "code",
   "execution_count": 39,
   "metadata": {},
   "outputs": [],
   "source": [
    "replaced_words = TEXT[25]\n",
    "replaced_words = replaced_words.split()"
   ]
  },
  {
   "cell_type": "code",
   "execution_count": 40,
   "metadata": {},
   "outputs": [
    {
     "name": "stdout",
     "output_type": "stream",
     "text": [
      "['местечко', 'терялся', 'ту', 'догадках', 'подыскивая', 'объяснение', 'давайте', 'диковинным', 'поступкам', 'бабам', 'следом', 'разговорами', 'поискаться', 'сказано', 'стало']\n"
     ]
    }
   ],
   "source": [
    "result = []\n",
    "for word in replaced_words:\n",
    "    if word in model_td:\n",
    "        group_ersatz = model_td.most_similar(word, topn=1)\n",
    "        ersatz = group_ersatz[0][0]\n",
    "        word = word.replace(word, ersatz)\n",
    "    result.append(word)\n",
    "print(result)"
   ]
  }
 ],
 "metadata": {
  "kernelspec": {
   "display_name": "Python 3",
   "language": "python",
   "name": "python3"
  },
  "language_info": {
   "codemirror_mode": {
    "name": "ipython",
    "version": 3
   },
   "file_extension": ".py",
   "mimetype": "text/x-python",
   "name": "python",
   "nbconvert_exporter": "python",
   "pygments_lexer": "ipython3",
   "version": "3.8.5"
  }
 },
 "nbformat": 4,
 "nbformat_minor": 2
}
